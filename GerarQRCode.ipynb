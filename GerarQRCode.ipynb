{
  "nbformat": 4,
  "nbformat_minor": 0,
  "metadata": {
    "colab": {
      "name": "GerarQRCode.ipynb",
      "provenance": [],
      "authorship_tag": "ABX9TyOreNC9vA/gBbi8BeTUhwjb",
      "include_colab_link": true
    },
    "kernelspec": {
      "name": "python3",
      "display_name": "Python 3"
    },
    "language_info": {
      "name": "python"
    }
  },
  "cells": [
    {
      "cell_type": "markdown",
      "metadata": {
        "id": "view-in-github",
        "colab_type": "text"
      },
      "source": [
        "<a href=\"https://colab.research.google.com/github/rogerwender/DataScience/blob/main/GerarQRCode.ipynb\" target=\"_parent\"><img src=\"https://colab.research.google.com/assets/colab-badge.svg\" alt=\"Open In Colab\"/></a>"
      ]
    },
    {
      "cell_type": "code",
      "metadata": {
        "id": "orfl6H0Tqog_"
      },
      "source": [
        "!pip install pyqrcode\n",
        "!pip install pypng"
      ],
      "execution_count": null,
      "outputs": []
    },
    {
      "cell_type": "code",
      "metadata": {
        "id": "pe79ZpT0qqjL"
      },
      "source": [
        "import pyqrcode\n",
        "import png\n",
        "\n",
        "from pyqrcode import QRCode\n",
        "\n",
        "conteudo = \"www.google.com\"\n",
        "url = pyqrcode.create(conteudo)\n",
        "url.png('qrcode.jpeg', scale=8)"
      ],
      "execution_count": null,
      "outputs": []
    }
  ]
}