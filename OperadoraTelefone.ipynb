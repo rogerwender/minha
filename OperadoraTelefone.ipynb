{
  "nbformat": 4,
  "nbformat_minor": 0,
  "metadata": {
    "colab": {
      "name": "OperadoraTelefone.ipynb",
      "provenance": [],
      "authorship_tag": "ABX9TyNa5K1fzjKfycg0PtxdJwpl",
      "include_colab_link": true
    },
    "kernelspec": {
      "name": "python3",
      "display_name": "Python 3"
    },
    "language_info": {
      "name": "python"
    }
  },
  "cells": [
    {
      "cell_type": "markdown",
      "metadata": {
        "id": "view-in-github",
        "colab_type": "text"
      },
      "source": [
        "<a href=\"https://colab.research.google.com/github/rogerwender/DataScience/blob/main/OperadoraTelefone.ipynb\" target=\"_parent\"><img src=\"https://colab.research.google.com/assets/colab-badge.svg\" alt=\"Open In Colab\"/></a>"
      ]
    },
    {
      "cell_type": "markdown",
      "metadata": {
        "id": "nEG0WHkjfMKu"
      },
      "source": [
        "#Verificar Operadora e Estado do número de telefone"
      ]
    },
    {
      "cell_type": "code",
      "metadata": {
        "colab": {
          "base_uri": "https://localhost:8080/"
        },
        "id": "Ha4z_guYfLku",
        "outputId": "502f79f3-709e-4f3a-f0a9-aea833f65d29"
      },
      "source": [
        "!pip install phonenumbers"
      ],
      "execution_count": 1,
      "outputs": [
        {
          "output_type": "stream",
          "text": [
            "Collecting phonenumbers\n",
            "  Downloading phonenumbers-8.12.28-py2.py3-none-any.whl (2.6 MB)\n",
            "\u001b[K     |████████████████████████████████| 2.6 MB 5.8 MB/s \n",
            "\u001b[?25hInstalling collected packages: phonenumbers\n",
            "Successfully installed phonenumbers-8.12.28\n"
          ],
          "name": "stdout"
        }
      ]
    },
    {
      "cell_type": "code",
      "metadata": {
        "colab": {
          "base_uri": "https://localhost:8080/"
        },
        "id": "1cCyCd5gfQ_6",
        "outputId": "f23b356f-dd33-41f7-d9c9-f616bb1f4859"
      },
      "source": [
        "import phonenumbers\n",
        "from phonenumbers import geocoder, carrier\n",
        "\n",
        "numero_telefone = phonenumbers.parse(\"Número do telefone nesse formato +5562999999999\")\n",
        "\n",
        "operadora = carrier.name_for_number(numero_telefone, 'pt-br')\n",
        "\n",
        "estado = geocoder.description_for_number(numero_telefone, 'pt-br')\n",
        "\n",
        "print('A operadora é: ' + operadora)\n",
        "print('O estado é: ' + estado)"
      ],
      "execution_count": 4,
      "outputs": [
        {
          "output_type": "stream",
          "text": [
            "A operadora é: TIM\n",
            "O estado é: Goiás\n"
          ],
          "name": "stdout"
        }
      ]
    },
    {
      "cell_type": "code",
      "metadata": {
        "id": "cX1JirxEfjX9"
      },
      "source": [
        ""
      ],
      "execution_count": null,
      "outputs": []
    }
  ]
}