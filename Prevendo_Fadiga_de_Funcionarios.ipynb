{
  "nbformat": 4,
  "nbformat_minor": 0,
  "metadata": {
    "colab": {
      "name": "Prevendo_Fadiga_de_Funcionários (2).ipynb",
      "provenance": [],
      "collapsed_sections": [],
      "include_colab_link": true
    },
    "kernelspec": {
      "display_name": "Python 3",
      "name": "python3"
    },
    "language_info": {
      "name": "python"
    }
  },
  "cells": [
    {
      "cell_type": "markdown",
      "metadata": {
        "id": "view-in-github",
        "colab_type": "text"
      },
      "source": [
        "<a href=\"https://colab.research.google.com/github/rogerwender/CientistaDeDados/blob/main/Prevendo_Fadiga_de_Funcion%C3%A1rios.ipynb\" target=\"_parent\"><img src=\"https://colab.research.google.com/assets/colab-badge.svg\" alt=\"Open In Colab\"/></a>"
      ]
    },
    {
      "cell_type": "markdown",
      "metadata": {
        "id": "MO_zOCKXrTVR"
      },
      "source": [
        "# Análise do seguinte problema:\n",
        "#*Prever a taxa de esgotamento dos funcionários com base nos recursos fornecidos*\n",
        "Obs.: análise de dados de uma empresa fictícia"
      ]
    },
    {
      "cell_type": "markdown",
      "metadata": {
        "id": "fWc99c0im3FN"
      },
      "source": [
        "#Análisando os Dados\n"
      ]
    },
    {
      "cell_type": "markdown",
      "metadata": {
        "id": "kPAGU5t4h_aA"
      },
      "source": [
        "#### Fontes:\n",
        "https://www.kaggle.com/redwankarimsony/hackerearth-employee-burnout-challenge"
      ]
    },
    {
      "cell_type": "markdown",
      "metadata": {
        "id": "Qa_w8sd47wd1"
      },
      "source": [
        "\n",
        "Descrição dos campos:\n",
        "- Employee ID : ID do funcionário\n",
        "- Date of joining: Data admissão na empresa\n",
        "- Gender: Sexo\n",
        "- Company Type: Tipo da empresa\n",
        "- WFH Setup Available: Configuração adequada está disponível ou não em casa\n",
        "- Designation: nível de antiguidade do funcionário\n",
        "- Resource Allocation: Horas de trabalho por dia\n",
        "- Mental Fatigue Score: pontuação da fadiga mental.\n",
        "- Burn Rate: taxa de saturação."
      ]
    },
    {
      "cell_type": "code",
      "metadata": {
        "id": "fAMxweLghRA3"
      },
      "source": [
        "# Bibliotecas importadas para utilização no projeto\n",
        "import numpy as np\n",
        "import pandas as pd\n",
        "import matplotlib.pyplot as plt\n",
        "import seaborn as sns\n",
        "from sklearn.model_selection import  train_test_split\n",
        "\n",
        "#import lightgbm and xgboost \n",
        "import lightgbm as lgb \n",
        "import xgboost as xgb \n",
        "\n",
        "# Avaliação da Máquina Preditiva\n",
        "from sklearn.metrics import mean_squared_error, r2_score\n",
        "import math"
      ],
      "execution_count": 105,
      "outputs": []
    },
    {
      "cell_type": "code",
      "metadata": {
        "colab": {
          "base_uri": "https://localhost:8080/"
        },
        "id": "noxEn3j_hRDu",
        "outputId": "98d79917-cdea-4100-f322-7c3aaa240cf9"
      },
      "source": [
        "# Importando o dataset\n",
        "dados = pd.read_csv(\"/content/Dados.csv\",sep = \",\")\n",
        "\n",
        "#Vendo as primeiras linhas\n",
        "print(\"Total de linhas e colunas: \", dados.shape)\n"
      ],
      "execution_count": 106,
      "outputs": [
        {
          "output_type": "stream",
          "text": [
            "Total de linhas e colunas:  (22750, 9)\n"
          ],
          "name": "stdout"
        }
      ]
    },
    {
      "cell_type": "code",
      "metadata": {
        "colab": {
          "base_uri": "https://localhost:8080/",
          "height": 220
        },
        "id": "KU9fr9aaxyhx",
        "outputId": "0dd97d77-be0d-4f14-9c4f-b45065ebadd7"
      },
      "source": [
        "dados.head(5)"
      ],
      "execution_count": 107,
      "outputs": [
        {
          "output_type": "execute_result",
          "data": {
            "text/html": [
              "<div>\n",
              "<style scoped>\n",
              "    .dataframe tbody tr th:only-of-type {\n",
              "        vertical-align: middle;\n",
              "    }\n",
              "\n",
              "    .dataframe tbody tr th {\n",
              "        vertical-align: top;\n",
              "    }\n",
              "\n",
              "    .dataframe thead th {\n",
              "        text-align: right;\n",
              "    }\n",
              "</style>\n",
              "<table border=\"1\" class=\"dataframe\">\n",
              "  <thead>\n",
              "    <tr style=\"text-align: right;\">\n",
              "      <th></th>\n",
              "      <th>Employee ID</th>\n",
              "      <th>Date of Joining</th>\n",
              "      <th>Gender</th>\n",
              "      <th>Company Type</th>\n",
              "      <th>WFH Setup Available</th>\n",
              "      <th>Designation</th>\n",
              "      <th>Resource Allocation</th>\n",
              "      <th>Mental Fatigue Score</th>\n",
              "      <th>Burn Rate</th>\n",
              "    </tr>\n",
              "  </thead>\n",
              "  <tbody>\n",
              "    <tr>\n",
              "      <th>0</th>\n",
              "      <td>fffe32003000360033003200</td>\n",
              "      <td>2008-09-30</td>\n",
              "      <td>Female</td>\n",
              "      <td>Service</td>\n",
              "      <td>No</td>\n",
              "      <td>2.0</td>\n",
              "      <td>3.0</td>\n",
              "      <td>3.8</td>\n",
              "      <td>0.16</td>\n",
              "    </tr>\n",
              "    <tr>\n",
              "      <th>1</th>\n",
              "      <td>fffe3700360033003500</td>\n",
              "      <td>2008-11-30</td>\n",
              "      <td>Male</td>\n",
              "      <td>Service</td>\n",
              "      <td>Yes</td>\n",
              "      <td>1.0</td>\n",
              "      <td>2.0</td>\n",
              "      <td>5.0</td>\n",
              "      <td>0.36</td>\n",
              "    </tr>\n",
              "    <tr>\n",
              "      <th>2</th>\n",
              "      <td>fffe31003300320037003900</td>\n",
              "      <td>2008-03-10</td>\n",
              "      <td>Female</td>\n",
              "      <td>Product</td>\n",
              "      <td>Yes</td>\n",
              "      <td>2.0</td>\n",
              "      <td>NaN</td>\n",
              "      <td>5.8</td>\n",
              "      <td>0.49</td>\n",
              "    </tr>\n",
              "    <tr>\n",
              "      <th>3</th>\n",
              "      <td>fffe32003400380032003900</td>\n",
              "      <td>2008-11-03</td>\n",
              "      <td>Male</td>\n",
              "      <td>Service</td>\n",
              "      <td>Yes</td>\n",
              "      <td>1.0</td>\n",
              "      <td>1.0</td>\n",
              "      <td>2.6</td>\n",
              "      <td>0.20</td>\n",
              "    </tr>\n",
              "    <tr>\n",
              "      <th>4</th>\n",
              "      <td>fffe31003900340031003600</td>\n",
              "      <td>2008-07-24</td>\n",
              "      <td>Female</td>\n",
              "      <td>Service</td>\n",
              "      <td>No</td>\n",
              "      <td>3.0</td>\n",
              "      <td>7.0</td>\n",
              "      <td>6.9</td>\n",
              "      <td>0.52</td>\n",
              "    </tr>\n",
              "  </tbody>\n",
              "</table>\n",
              "</div>"
            ],
            "text/plain": [
              "                Employee ID Date of Joining  ... Mental Fatigue Score Burn Rate\n",
              "0  fffe32003000360033003200      2008-09-30  ...                  3.8      0.16\n",
              "1      fffe3700360033003500      2008-11-30  ...                  5.0      0.36\n",
              "2  fffe31003300320037003900      2008-03-10  ...                  5.8      0.49\n",
              "3  fffe32003400380032003900      2008-11-03  ...                  2.6      0.20\n",
              "4  fffe31003900340031003600      2008-07-24  ...                  6.9      0.52\n",
              "\n",
              "[5 rows x 9 columns]"
            ]
          },
          "metadata": {
            "tags": []
          },
          "execution_count": 107
        }
      ]
    },
    {
      "cell_type": "code",
      "metadata": {
        "id": "xoZjmGVGzN51"
      },
      "source": [
        "dados.rename(columns= {'Employee ID': 'ID', \n",
        "                       'Date of Joining':'Data_Ingresso',\n",
        "                       'Gender':'Sexo', \n",
        "                       'Company Type':'Tipo_Empresa',\n",
        "                       'WFH Setup Available':'Configuracao_Disponivel',\n",
        "                       'Designation':'Nivel_Antiguidade',\n",
        "                       'Resource Allocation':'Horas_Alocadas',\n",
        "                       'Mental Fatigue Score':'Pontos_Fadiga_Mental',\n",
        "                       'Burn Rate':'Taxa_Saturacao'\n",
        "             }, inplace=True)\n"
      ],
      "execution_count": 108,
      "outputs": []
    },
    {
      "cell_type": "markdown",
      "metadata": {
        "id": "Bq1r6yy0mKwR"
      },
      "source": [
        "## Explorando os dados/variáveis"
      ]
    },
    {
      "cell_type": "code",
      "metadata": {
        "id": "xM2atKboCR-2"
      },
      "source": [
        "dados['ID'].value_counts()\n",
        "sns.countplot(dados['ID'])"
      ],
      "execution_count": null,
      "outputs": []
    },
    {
      "cell_type": "code",
      "metadata": {
        "id": "24VzYeO_B8FV",
        "colab": {
          "base_uri": "https://localhost:8080/",
          "height": 350
        },
        "outputId": "7c8ed454-264e-41dd-dbb6-da9aca92ed38"
      },
      "source": [
        "dados['Tipo_Empresa'].value_counts()\n",
        "sns.countplot(dados['Tipo_Empresa'])\n"
      ],
      "execution_count": 109,
      "outputs": [
        {
          "output_type": "stream",
          "text": [
            "/usr/local/lib/python3.7/dist-packages/seaborn/_decorators.py:43: FutureWarning: Pass the following variable as a keyword arg: x. From version 0.12, the only valid positional argument will be `data`, and passing other arguments without an explicit keyword will result in an error or misinterpretation.\n",
            "  FutureWarning\n"
          ],
          "name": "stderr"
        },
        {
          "output_type": "execute_result",
          "data": {
            "text/plain": [
              "<matplotlib.axes._subplots.AxesSubplot at 0x7f879bf35110>"
            ]
          },
          "metadata": {
            "tags": []
          },
          "execution_count": 109
        },
        {
          "output_type": "display_data",
          "data": {
            "image/png": "[encoded data removed]",
            "text/plain": [
              "<Figure size 432x288 with 1 Axes>"
            ]
          },
          "metadata": {
            "tags": [],
            "needs_background": "light"
          }
        }
      ]
    },
    {
      "cell_type": "code",
      "metadata": {
        "colab": {
          "base_uri": "https://localhost:8080/",
          "height": 350
        },
        "id": "f3Z4PnDRCNks",
        "outputId": "04713901-eb6e-4bf3-fb43-5b507b91c5d4"
      },
      "source": [
        "dados['Configuracao_Disponivel'].value_counts()\n",
        "sns.countplot(dados['Configuracao_Disponivel'])"
      ],
      "execution_count": 110,
      "outputs": [
        {
          "output_type": "stream",
          "text": [
            "/usr/local/lib/python3.7/dist-packages/seaborn/_decorators.py:43: FutureWarning: Pass the following variable as a keyword arg: x. From version 0.12, the only valid positional argument will be `data`, and passing other arguments without an explicit keyword will result in an error or misinterpretation.\n",
            "  FutureWarning\n"
          ],
          "name": "stderr"
        },
        {
          "output_type": "execute_result",
          "data": {
            "text/plain": [
              "<matplotlib.axes._subplots.AxesSubplot at 0x7f879bf60090>"
            ]
          },
          "metadata": {
            "tags": []
          },
          "execution_count": 110
        },
        {
          "output_type": "display_data",
          "data": {
            "image/png": "[encoded data removed]",
            "text/plain": [
              "<Figure size 432x288 with 1 Axes>"
            ]
          },
          "metadata": {
            "tags": [],
            "needs_background": "light"
          }
        }
      ]
    },
    {
      "cell_type": "code",
      "metadata": {
        "colab": {
          "base_uri": "https://localhost:8080/",
          "height": 350
        },
        "id": "CVrelNESCaem",
        "outputId": "9dee487b-38c9-42ce-fe5b-eced6e329da7"
      },
      "source": [
        "dados.Nivel_Antiguidade.value_counts()\n",
        "sns.countplot(dados.Nivel_Antiguidade)"
      ],
      "execution_count": 111,
      "outputs": [
        {
          "output_type": "stream",
          "text": [
            "/usr/local/lib/python3.7/dist-packages/seaborn/_decorators.py:43: FutureWarning: Pass the following variable as a keyword arg: x. From version 0.12, the only valid positional argument will be `data`, and passing other arguments without an explicit keyword will result in an error or misinterpretation.\n",
            "  FutureWarning\n"
          ],
          "name": "stderr"
        },
        {
          "output_type": "execute_result",
          "data": {
            "text/plain": [
              "<matplotlib.axes._subplots.AxesSubplot at 0x7f879c583250>"
            ]
          },
          "metadata": {
            "tags": []
          },
          "execution_count": 111
        },
        {
          "output_type": "display_data",
          "data": {
            "image/png": "[encoded data removed]",
            "text/plain": [
              "<Figure size 432x288 with 1 Axes>"
            ]
          },
          "metadata": {
            "tags": [],
            "needs_background": "light"
          }
        }
      ]
    },
    {
      "cell_type": "code",
      "metadata": {
        "colab": {
          "base_uri": "https://localhost:8080/",
          "height": 350
        },
        "id": "1XTD94W5CvMb",
        "outputId": "092bceee-5d2d-44e2-a1c6-e144fbd30741"
      },
      "source": [
        "dados.Horas_Alocadas.value_counts()\n",
        "sns.countplot(dados.Horas_Alocadas)"
      ],
      "execution_count": 112,
      "outputs": [
        {
          "output_type": "stream",
          "text": [
            "/usr/local/lib/python3.7/dist-packages/seaborn/_decorators.py:43: FutureWarning: Pass the following variable as a keyword arg: x. From version 0.12, the only valid positional argument will be `data`, and passing other arguments without an explicit keyword will result in an error or misinterpretation.\n",
            "  FutureWarning\n"
          ],
          "name": "stderr"
        },
        {
          "output_type": "execute_result",
          "data": {
            "text/plain": [
              "<matplotlib.axes._subplots.AxesSubplot at 0x7f879cb6e4d0>"
            ]
          },
          "metadata": {
            "tags": []
          },
          "execution_count": 112
        },
        {
          "output_type": "display_data",
          "data": {
            "image/png": "[encoded data removed]",
            "text/plain": [
              "<Figure size 432x288 with 1 Axes>"
            ]
          },
          "metadata": {
            "tags": [],
            "needs_background": "light"
          }
        }
      ]
    },
    {
      "cell_type": "code",
      "metadata": {
        "colab": {
          "base_uri": "https://localhost:8080/"
        },
        "id": "fyaD3ZvrAoi7",
        "outputId": "9144c6f6-e688-4387-e24b-f1a7bca8ef99"
      },
      "source": [
        "# Verificando valores nulos\n",
        "dados.isna().sum()"
      ],
      "execution_count": 113,
      "outputs": [
        {
          "output_type": "execute_result",
          "data": {
            "text/plain": [
              "ID                            0\n",
              "Data_Ingresso                 0\n",
              "Sexo                          0\n",
              "Tipo_Empresa                  0\n",
              "Configuracao_Disponivel       0\n",
              "Nivel_Antiguidade             0\n",
              "Horas_Alocadas             1381\n",
              "Pontos_Fadiga_Mental       2117\n",
              "Taxa_Saturacao             1124\n",
              "dtype: int64"
            ]
          },
          "metadata": {
            "tags": []
          },
          "execution_count": 113
        }
      ]
    },
    {
      "cell_type": "code",
      "metadata": {
        "colab": {
          "base_uri": "https://localhost:8080/"
        },
        "id": "9c1fb6-khRGU",
        "outputId": "f499a1a4-fa49-4141-cb2d-28248f2000b7"
      },
      "source": [
        "#Verificando valores nulos por percentual\n",
        "dados.isnull().mean()*100"
      ],
      "execution_count": 114,
      "outputs": [
        {
          "output_type": "execute_result",
          "data": {
            "text/plain": [
              "ID                         0.000000\n",
              "Data_Ingresso              0.000000\n",
              "Sexo                       0.000000\n",
              "Tipo_Empresa               0.000000\n",
              "Configuracao_Disponivel    0.000000\n",
              "Nivel_Antiguidade          0.000000\n",
              "Horas_Alocadas             6.070330\n",
              "Pontos_Fadiga_Mental       9.305495\n",
              "Taxa_Saturacao             4.940659\n",
              "dtype: float64"
            ]
          },
          "metadata": {
            "tags": []
          },
          "execution_count": 114
        }
      ]
    },
    {
      "cell_type": "code",
      "metadata": {
        "colab": {
          "base_uri": "https://localhost:8080/",
          "height": 295
        },
        "id": "V8dLk70T-RbR",
        "outputId": "061a92a9-7651-4f72-cb67-1235d27b7ad8"
      },
      "source": [
        "dados.describe()"
      ],
      "execution_count": 115,
      "outputs": [
        {
          "output_type": "execute_result",
          "data": {
            "text/html": [
              "<div>\n",
              "<style scoped>\n",
              "    .dataframe tbody tr th:only-of-type {\n",
              "        vertical-align: middle;\n",
              "    }\n",
              "\n",
              "    .dataframe tbody tr th {\n",
              "        vertical-align: top;\n",
              "    }\n",
              "\n",
              "    .dataframe thead th {\n",
              "        text-align: right;\n",
              "    }\n",
              "</style>\n",
              "<table border=\"1\" class=\"dataframe\">\n",
              "  <thead>\n",
              "    <tr style=\"text-align: right;\">\n",
              "      <th></th>\n",
              "      <th>Nivel_Antiguidade</th>\n",
              "      <th>Horas_Alocadas</th>\n",
              "      <th>Pontos_Fadiga_Mental</th>\n",
              "      <th>Taxa_Saturacao</th>\n",
              "    </tr>\n",
              "  </thead>\n",
              "  <tbody>\n",
              "    <tr>\n",
              "      <th>count</th>\n",
              "      <td>22750.000000</td>\n",
              "      <td>21369.000000</td>\n",
              "      <td>20633.000000</td>\n",
              "      <td>21626.000000</td>\n",
              "    </tr>\n",
              "    <tr>\n",
              "      <th>mean</th>\n",
              "      <td>2.178725</td>\n",
              "      <td>4.481398</td>\n",
              "      <td>5.728188</td>\n",
              "      <td>0.452005</td>\n",
              "    </tr>\n",
              "    <tr>\n",
              "      <th>std</th>\n",
              "      <td>1.135145</td>\n",
              "      <td>2.047211</td>\n",
              "      <td>1.920839</td>\n",
              "      <td>0.198226</td>\n",
              "    </tr>\n",
              "    <tr>\n",
              "      <th>min</th>\n",
              "      <td>0.000000</td>\n",
              "      <td>1.000000</td>\n",
              "      <td>0.000000</td>\n",
              "      <td>0.000000</td>\n",
              "    </tr>\n",
              "    <tr>\n",
              "      <th>25%</th>\n",
              "      <td>1.000000</td>\n",
              "      <td>3.000000</td>\n",
              "      <td>4.600000</td>\n",
              "      <td>0.310000</td>\n",
              "    </tr>\n",
              "    <tr>\n",
              "      <th>50%</th>\n",
              "      <td>2.000000</td>\n",
              "      <td>4.000000</td>\n",
              "      <td>5.900000</td>\n",
              "      <td>0.450000</td>\n",
              "    </tr>\n",
              "    <tr>\n",
              "      <th>75%</th>\n",
              "      <td>3.000000</td>\n",
              "      <td>6.000000</td>\n",
              "      <td>7.100000</td>\n",
              "      <td>0.590000</td>\n",
              "    </tr>\n",
              "    <tr>\n",
              "      <th>max</th>\n",
              "      <td>5.000000</td>\n",
              "      <td>10.000000</td>\n",
              "      <td>10.000000</td>\n",
              "      <td>1.000000</td>\n",
              "    </tr>\n",
              "  </tbody>\n",
              "</table>\n",
              "</div>"
            ],
            "text/plain": [
              "       Nivel_Antiguidade  Horas_Alocadas  Pontos_Fadiga_Mental  Taxa_Saturacao\n",
              "count       22750.000000    21369.000000          20633.000000    21626.000000\n",
              "mean            2.178725        4.481398              5.728188        0.452005\n",
              "std             1.135145        2.047211              1.920839        0.198226\n",
              "min             0.000000        1.000000              0.000000        0.000000\n",
              "25%             1.000000        3.000000              4.600000        0.310000\n",
              "50%             2.000000        4.000000              5.900000        0.450000\n",
              "75%             3.000000        6.000000              7.100000        0.590000\n",
              "max             5.000000       10.000000             10.000000        1.000000"
            ]
          },
          "metadata": {
            "tags": []
          },
          "execution_count": 115
        }
      ]
    },
    {
      "cell_type": "markdown",
      "metadata": {
        "id": "TdEYKzRIm3I6"
      },
      "source": [
        "# Preparando os dados para Processamento dos Dados"
      ]
    },
    {
      "cell_type": "code",
      "metadata": {
        "id": "m4tX2RH_hRIr"
      },
      "source": [
        "#função para buscar o total de dias\n",
        "def create_days_count(data_ingresso):\n",
        "    return (current_date - data_ingresso[\"Data_Ingresso\"])"
      ],
      "execution_count": 116,
      "outputs": []
    },
    {
      "cell_type": "code",
      "metadata": {
        "id": "sx9kXThJhRN-"
      },
      "source": [
        "# Convertendo a Data_Ingresso para o formato datetime\n",
        "dados[\"Data_Ingresso\"] = pd.to_datetime(dados[\"Data_Ingresso\"])"
      ],
      "execution_count": 117,
      "outputs": []
    },
    {
      "cell_type": "markdown",
      "metadata": {
        "id": "PSydOVb-mW8N"
      },
      "source": [
        "### Retirando os Valores Nulos (NaN) - substituídos pela média da coluna"
      ]
    },
    {
      "cell_type": "code",
      "metadata": {
        "id": "ek1jtqYd9oAB"
      },
      "source": [
        "# Inserindo valores (media) nas linhas 'nulos' nas três colunas abaixo\n",
        "valores_nulos=['Horas_Alocadas','Pontos_Fadiga_Mental','Taxa_Saturacao']\n",
        "dados[valores_nulos]=dados[valores_nulos].replace({np.nan:dados['Horas_Alocadas'].mean(),\n",
        "                                                  np.nan:dados['Taxa_Saturacao'].mean(),\n",
        "                                                  np.nan:dados['Pontos_Fadiga_Mental'].mean(),\n",
        "                                                 })"
      ],
      "execution_count": 118,
      "outputs": []
    },
    {
      "cell_type": "code",
      "metadata": {
        "colab": {
          "base_uri": "https://localhost:8080/"
        },
        "id": "A47EUV1iDWuL",
        "outputId": "69ec6294-15a7-40d7-bed2-55c278a1b4dc"
      },
      "source": [
        "# Após a substituição dos valores nulos pela media da coluna podemos verificar que não existem mais valores nulos\n",
        "dados.isnull().mean()*100"
      ],
      "execution_count": 119,
      "outputs": [
        {
          "output_type": "execute_result",
          "data": {
            "text/plain": [
              "ID                         0.0\n",
              "Data_Ingresso              0.0\n",
              "Sexo                       0.0\n",
              "Tipo_Empresa               0.0\n",
              "Configuracao_Disponivel    0.0\n",
              "Nivel_Antiguidade          0.0\n",
              "Horas_Alocadas             0.0\n",
              "Pontos_Fadiga_Mental       0.0\n",
              "Taxa_Saturacao             0.0\n",
              "dtype: float64"
            ]
          },
          "metadata": {
            "tags": []
          },
          "execution_count": 119
        }
      ]
    },
    {
      "cell_type": "markdown",
      "metadata": {
        "id": "3TH2dhVjmctx"
      },
      "source": [
        "#### Engenharia de Atributos - Criando campo \"dias de trabalho\""
      ]
    },
    {
      "cell_type": "code",
      "metadata": {
        "id": "V2JxobrrhRQf"
      },
      "source": [
        "# Buscando a data atual\n",
        "current_date = pd.to_datetime('today')\n",
        "\n",
        "# Criando a coluna dias_trabalho\n",
        "dados[\"Dias_Trabalho\"] = dados.apply(create_days_count, axis=1).dt.days"
      ],
      "execution_count": 120,
      "outputs": []
    },
    {
      "cell_type": "code",
      "metadata": {
        "colab": {
          "base_uri": "https://localhost:8080/",
          "height": 223
        },
        "id": "t9eG_8AX1U-B",
        "outputId": "12c6c4d3-1692-4295-ca1c-ac1d7a2243de"
      },
      "source": [
        "dados.head()"
      ],
      "execution_count": 121,
      "outputs": [
        {
          "output_type": "execute_result",
          "data": {
            "text/html": [
              "<div>\n",
              "<style scoped>\n",
              "    .dataframe tbody tr th:only-of-type {\n",
              "        vertical-align: middle;\n",
              "    }\n",
              "\n",
              "    .dataframe tbody tr th {\n",
              "        vertical-align: top;\n",
              "    }\n",
              "\n",
              "    .dataframe thead th {\n",
              "        text-align: right;\n",
              "    }\n",
              "</style>\n",
              "<table border=\"1\" class=\"dataframe\">\n",
              "  <thead>\n",
              "    <tr style=\"text-align: right;\">\n",
              "      <th></th>\n",
              "      <th>ID</th>\n",
              "      <th>Data_Ingresso</th>\n",
              "      <th>Sexo</th>\n",
              "      <th>Tipo_Empresa</th>\n",
              "      <th>Configuracao_Disponivel</th>\n",
              "      <th>Nivel_Antiguidade</th>\n",
              "      <th>Horas_Alocadas</th>\n",
              "      <th>Pontos_Fadiga_Mental</th>\n",
              "      <th>Taxa_Saturacao</th>\n",
              "      <th>Dias_Trabalho</th>\n",
              "    </tr>\n",
              "  </thead>\n",
              "  <tbody>\n",
              "    <tr>\n",
              "      <th>0</th>\n",
              "      <td>fffe32003000360033003200</td>\n",
              "      <td>2008-09-30</td>\n",
              "      <td>Female</td>\n",
              "      <td>Service</td>\n",
              "      <td>No</td>\n",
              "      <td>2.0</td>\n",
              "      <td>3.000000</td>\n",
              "      <td>3.8</td>\n",
              "      <td>0.16</td>\n",
              "      <td>4674</td>\n",
              "    </tr>\n",
              "    <tr>\n",
              "      <th>1</th>\n",
              "      <td>fffe3700360033003500</td>\n",
              "      <td>2008-11-30</td>\n",
              "      <td>Male</td>\n",
              "      <td>Service</td>\n",
              "      <td>Yes</td>\n",
              "      <td>1.0</td>\n",
              "      <td>2.000000</td>\n",
              "      <td>5.0</td>\n",
              "      <td>0.36</td>\n",
              "      <td>4613</td>\n",
              "    </tr>\n",
              "    <tr>\n",
              "      <th>2</th>\n",
              "      <td>fffe31003300320037003900</td>\n",
              "      <td>2008-03-10</td>\n",
              "      <td>Female</td>\n",
              "      <td>Product</td>\n",
              "      <td>Yes</td>\n",
              "      <td>2.0</td>\n",
              "      <td>5.728188</td>\n",
              "      <td>5.8</td>\n",
              "      <td>0.49</td>\n",
              "      <td>4878</td>\n",
              "    </tr>\n",
              "    <tr>\n",
              "      <th>3</th>\n",
              "      <td>fffe32003400380032003900</td>\n",
              "      <td>2008-11-03</td>\n",
              "      <td>Male</td>\n",
              "      <td>Service</td>\n",
              "      <td>Yes</td>\n",
              "      <td>1.0</td>\n",
              "      <td>1.000000</td>\n",
              "      <td>2.6</td>\n",
              "      <td>0.20</td>\n",
              "      <td>4640</td>\n",
              "    </tr>\n",
              "    <tr>\n",
              "      <th>4</th>\n",
              "      <td>fffe31003900340031003600</td>\n",
              "      <td>2008-07-24</td>\n",
              "      <td>Female</td>\n",
              "      <td>Service</td>\n",
              "      <td>No</td>\n",
              "      <td>3.0</td>\n",
              "      <td>7.000000</td>\n",
              "      <td>6.9</td>\n",
              "      <td>0.52</td>\n",
              "      <td>4742</td>\n",
              "    </tr>\n",
              "  </tbody>\n",
              "</table>\n",
              "</div>"
            ],
            "text/plain": [
              "                         ID Data_Ingresso  ... Taxa_Saturacao Dias_Trabalho\n",
              "0  fffe32003000360033003200    2008-09-30  ...           0.16          4674\n",
              "1      fffe3700360033003500    2008-11-30  ...           0.36          4613\n",
              "2  fffe31003300320037003900    2008-03-10  ...           0.49          4878\n",
              "3  fffe32003400380032003900    2008-11-03  ...           0.20          4640\n",
              "4  fffe31003900340031003600    2008-07-24  ...           0.52          4742\n",
              "\n",
              "[5 rows x 10 columns]"
            ]
          },
          "metadata": {
            "tags": []
          },
          "execution_count": 121
        }
      ]
    },
    {
      "cell_type": "markdown",
      "metadata": {
        "id": "0uPN25E2mkyw"
      },
      "source": [
        "#### LabelEncoder - Variáveis não numéricas"
      ]
    },
    {
      "cell_type": "code",
      "metadata": {
        "id": "C-lZCaYX1snY"
      },
      "source": [
        "dados['Sexo']=dados['Sexo'].map({'Male':1,'Female':0})"
      ],
      "execution_count": 122,
      "outputs": []
    },
    {
      "cell_type": "code",
      "metadata": {
        "id": "mA-GDhZ53EeX"
      },
      "source": [
        "dados['Tipo_Empresa']=dados['Tipo_Empresa'].map({'Service':1,'Product':0})"
      ],
      "execution_count": 123,
      "outputs": []
    },
    {
      "cell_type": "code",
      "metadata": {
        "id": "vTuVxJcz3RuD"
      },
      "source": [
        "dados['Configuracao_Disponivel']=dados['Configuracao_Disponivel'].map({'Yes':1,'No':0})"
      ],
      "execution_count": 124,
      "outputs": []
    },
    {
      "cell_type": "code",
      "metadata": {
        "colab": {
          "base_uri": "https://localhost:8080/",
          "height": 223
        },
        "id": "_fkWeJr21y8Z",
        "outputId": "502a745a-ee61-4e88-e975-8949264d2488"
      },
      "source": [
        "dados.head()"
      ],
      "execution_count": 125,
      "outputs": [
        {
          "output_type": "execute_result",
          "data": {
            "text/html": [
              "<div>\n",
              "<style scoped>\n",
              "    .dataframe tbody tr th:only-of-type {\n",
              "        vertical-align: middle;\n",
              "    }\n",
              "\n",
              "    .dataframe tbody tr th {\n",
              "        vertical-align: top;\n",
              "    }\n",
              "\n",
              "    .dataframe thead th {\n",
              "        text-align: right;\n",
              "    }\n",
              "</style>\n",
              "<table border=\"1\" class=\"dataframe\">\n",
              "  <thead>\n",
              "    <tr style=\"text-align: right;\">\n",
              "      <th></th>\n",
              "      <th>ID</th>\n",
              "      <th>Data_Ingresso</th>\n",
              "      <th>Sexo</th>\n",
              "      <th>Tipo_Empresa</th>\n",
              "      <th>Configuracao_Disponivel</th>\n",
              "      <th>Nivel_Antiguidade</th>\n",
              "      <th>Horas_Alocadas</th>\n",
              "      <th>Pontos_Fadiga_Mental</th>\n",
              "      <th>Taxa_Saturacao</th>\n",
              "      <th>Dias_Trabalho</th>\n",
              "    </tr>\n",
              "  </thead>\n",
              "  <tbody>\n",
              "    <tr>\n",
              "      <th>0</th>\n",
              "      <td>fffe32003000360033003200</td>\n",
              "      <td>2008-09-30</td>\n",
              "      <td>0</td>\n",
              "      <td>1</td>\n",
              "      <td>0</td>\n",
              "      <td>2.0</td>\n",
              "      <td>3.000000</td>\n",
              "      <td>3.8</td>\n",
              "      <td>0.16</td>\n",
              "      <td>4674</td>\n",
              "    </tr>\n",
              "    <tr>\n",
              "      <th>1</th>\n",
              "      <td>fffe3700360033003500</td>\n",
              "      <td>2008-11-30</td>\n",
              "      <td>1</td>\n",
              "      <td>1</td>\n",
              "      <td>1</td>\n",
              "      <td>1.0</td>\n",
              "      <td>2.000000</td>\n",
              "      <td>5.0</td>\n",
              "      <td>0.36</td>\n",
              "      <td>4613</td>\n",
              "    </tr>\n",
              "    <tr>\n",
              "      <th>2</th>\n",
              "      <td>fffe31003300320037003900</td>\n",
              "      <td>2008-03-10</td>\n",
              "      <td>0</td>\n",
              "      <td>0</td>\n",
              "      <td>1</td>\n",
              "      <td>2.0</td>\n",
              "      <td>5.728188</td>\n",
              "      <td>5.8</td>\n",
              "      <td>0.49</td>\n",
              "      <td>4878</td>\n",
              "    </tr>\n",
              "    <tr>\n",
              "      <th>3</th>\n",
              "      <td>fffe32003400380032003900</td>\n",
              "      <td>2008-11-03</td>\n",
              "      <td>1</td>\n",
              "      <td>1</td>\n",
              "      <td>1</td>\n",
              "      <td>1.0</td>\n",
              "      <td>1.000000</td>\n",
              "      <td>2.6</td>\n",
              "      <td>0.20</td>\n",
              "      <td>4640</td>\n",
              "    </tr>\n",
              "    <tr>\n",
              "      <th>4</th>\n",
              "      <td>fffe31003900340031003600</td>\n",
              "      <td>2008-07-24</td>\n",
              "      <td>0</td>\n",
              "      <td>1</td>\n",
              "      <td>0</td>\n",
              "      <td>3.0</td>\n",
              "      <td>7.000000</td>\n",
              "      <td>6.9</td>\n",
              "      <td>0.52</td>\n",
              "      <td>4742</td>\n",
              "    </tr>\n",
              "  </tbody>\n",
              "</table>\n",
              "</div>"
            ],
            "text/plain": [
              "                         ID Data_Ingresso  ...  Taxa_Saturacao  Dias_Trabalho\n",
              "0  fffe32003000360033003200    2008-09-30  ...            0.16           4674\n",
              "1      fffe3700360033003500    2008-11-30  ...            0.36           4613\n",
              "2  fffe31003300320037003900    2008-03-10  ...            0.49           4878\n",
              "3  fffe32003400380032003900    2008-11-03  ...            0.20           4640\n",
              "4  fffe31003900340031003600    2008-07-24  ...            0.52           4742\n",
              "\n",
              "[5 rows x 10 columns]"
            ]
          },
          "metadata": {
            "tags": []
          },
          "execution_count": 125
        }
      ]
    },
    {
      "cell_type": "code",
      "metadata": {
        "id": "XCoTrzKD-4HE",
        "colab": {
          "base_uri": "https://localhost:8080/",
          "height": 315
        },
        "outputId": "cebac047-d98d-409b-e6ff-e6ff3255482b"
      },
      "source": [
        "dados.describe()"
      ],
      "execution_count": 126,
      "outputs": [
        {
          "output_type": "execute_result",
          "data": {
            "text/html": [
              "<div>\n",
              "<style scoped>\n",
              "    .dataframe tbody tr th:only-of-type {\n",
              "        vertical-align: middle;\n",
              "    }\n",
              "\n",
              "    .dataframe tbody tr th {\n",
              "        vertical-align: top;\n",
              "    }\n",
              "\n",
              "    .dataframe thead th {\n",
              "        text-align: right;\n",
              "    }\n",
              "</style>\n",
              "<table border=\"1\" class=\"dataframe\">\n",
              "  <thead>\n",
              "    <tr style=\"text-align: right;\">\n",
              "      <th></th>\n",
              "      <th>Sexo</th>\n",
              "      <th>Tipo_Empresa</th>\n",
              "      <th>Configuracao_Disponivel</th>\n",
              "      <th>Nivel_Antiguidade</th>\n",
              "      <th>Horas_Alocadas</th>\n",
              "      <th>Pontos_Fadiga_Mental</th>\n",
              "      <th>Taxa_Saturacao</th>\n",
              "      <th>Dias_Trabalho</th>\n",
              "    </tr>\n",
              "  </thead>\n",
              "  <tbody>\n",
              "    <tr>\n",
              "      <th>count</th>\n",
              "      <td>22750.000000</td>\n",
              "      <td>22750.000000</td>\n",
              "      <td>22750.000000</td>\n",
              "      <td>22750.000000</td>\n",
              "      <td>22750.000000</td>\n",
              "      <td>22750.000000</td>\n",
              "      <td>22750.000000</td>\n",
              "      <td>22750.000000</td>\n",
              "    </tr>\n",
              "    <tr>\n",
              "      <th>mean</th>\n",
              "      <td>0.476571</td>\n",
              "      <td>0.652000</td>\n",
              "      <td>0.540220</td>\n",
              "      <td>2.178725</td>\n",
              "      <td>4.557083</td>\n",
              "      <td>5.728188</td>\n",
              "      <td>0.712684</td>\n",
              "      <td>4764.605495</td>\n",
              "    </tr>\n",
              "    <tr>\n",
              "      <th>std</th>\n",
              "      <td>0.499462</td>\n",
              "      <td>0.476346</td>\n",
              "      <td>0.498391</td>\n",
              "      <td>1.135145</td>\n",
              "      <td>2.006312</td>\n",
              "      <td>1.829281</td>\n",
              "      <td>1.159673</td>\n",
              "      <td>105.348190</td>\n",
              "    </tr>\n",
              "    <tr>\n",
              "      <th>min</th>\n",
              "      <td>0.000000</td>\n",
              "      <td>0.000000</td>\n",
              "      <td>0.000000</td>\n",
              "      <td>0.000000</td>\n",
              "      <td>1.000000</td>\n",
              "      <td>0.000000</td>\n",
              "      <td>0.000000</td>\n",
              "      <td>4582.000000</td>\n",
              "    </tr>\n",
              "    <tr>\n",
              "      <th>25%</th>\n",
              "      <td>0.000000</td>\n",
              "      <td>0.000000</td>\n",
              "      <td>0.000000</td>\n",
              "      <td>1.000000</td>\n",
              "      <td>3.000000</td>\n",
              "      <td>4.700000</td>\n",
              "      <td>0.320000</td>\n",
              "      <td>4674.000000</td>\n",
              "    </tr>\n",
              "    <tr>\n",
              "      <th>50%</th>\n",
              "      <td>0.000000</td>\n",
              "      <td>1.000000</td>\n",
              "      <td>1.000000</td>\n",
              "      <td>2.000000</td>\n",
              "      <td>5.000000</td>\n",
              "      <td>5.728188</td>\n",
              "      <td>0.470000</td>\n",
              "      <td>4764.000000</td>\n",
              "    </tr>\n",
              "    <tr>\n",
              "      <th>75%</th>\n",
              "      <td>1.000000</td>\n",
              "      <td>1.000000</td>\n",
              "      <td>1.000000</td>\n",
              "      <td>3.000000</td>\n",
              "      <td>6.000000</td>\n",
              "      <td>6.900000</td>\n",
              "      <td>0.610000</td>\n",
              "      <td>4856.000000</td>\n",
              "    </tr>\n",
              "    <tr>\n",
              "      <th>max</th>\n",
              "      <td>1.000000</td>\n",
              "      <td>1.000000</td>\n",
              "      <td>1.000000</td>\n",
              "      <td>5.000000</td>\n",
              "      <td>10.000000</td>\n",
              "      <td>10.000000</td>\n",
              "      <td>5.728188</td>\n",
              "      <td>4947.000000</td>\n",
              "    </tr>\n",
              "  </tbody>\n",
              "</table>\n",
              "</div>"
            ],
            "text/plain": [
              "               Sexo  Tipo_Empresa  ...  Taxa_Saturacao  Dias_Trabalho\n",
              "count  22750.000000  22750.000000  ...    22750.000000   22750.000000\n",
              "mean       0.476571      0.652000  ...        0.712684    4764.605495\n",
              "std        0.499462      0.476346  ...        1.159673     105.348190\n",
              "min        0.000000      0.000000  ...        0.000000    4582.000000\n",
              "25%        0.000000      0.000000  ...        0.320000    4674.000000\n",
              "50%        0.000000      1.000000  ...        0.470000    4764.000000\n",
              "75%        1.000000      1.000000  ...        0.610000    4856.000000\n",
              "max        1.000000      1.000000  ...        5.728188    4947.000000\n",
              "\n",
              "[8 rows x 8 columns]"
            ]
          },
          "metadata": {
            "tags": []
          },
          "execution_count": 126
        }
      ]
    },
    {
      "cell_type": "markdown",
      "metadata": {
        "id": "dB8ztEhSmzXm"
      },
      "source": [
        "### Eliminando Variáveis que não são explicativas para a previsão"
      ]
    },
    {
      "cell_type": "code",
      "metadata": {
        "id": "aSfLTBOGhRTM"
      },
      "source": [
        "# Excluindo as colunas ID e Data_Ingresso\n",
        "dados.drop([\"ID\",\"Data_Ingresso\"],axis=1,inplace=True)"
      ],
      "execution_count": 127,
      "outputs": []
    },
    {
      "cell_type": "code",
      "metadata": {
        "id": "Ks4hjulLYNWS",
        "colab": {
          "base_uri": "https://localhost:8080/",
          "height": 203
        },
        "outputId": "e23595ca-6695-4643-ca6c-b9cc636f1ede"
      },
      "source": [
        "dados.head()"
      ],
      "execution_count": 128,
      "outputs": [
        {
          "output_type": "execute_result",
          "data": {
            "text/html": [
              "<div>\n",
              "<style scoped>\n",
              "    .dataframe tbody tr th:only-of-type {\n",
              "        vertical-align: middle;\n",
              "    }\n",
              "\n",
              "    .dataframe tbody tr th {\n",
              "        vertical-align: top;\n",
              "    }\n",
              "\n",
              "    .dataframe thead th {\n",
              "        text-align: right;\n",
              "    }\n",
              "</style>\n",
              "<table border=\"1\" class=\"dataframe\">\n",
              "  <thead>\n",
              "    <tr style=\"text-align: right;\">\n",
              "      <th></th>\n",
              "      <th>Sexo</th>\n",
              "      <th>Tipo_Empresa</th>\n",
              "      <th>Configuracao_Disponivel</th>\n",
              "      <th>Nivel_Antiguidade</th>\n",
              "      <th>Horas_Alocadas</th>\n",
              "      <th>Pontos_Fadiga_Mental</th>\n",
              "      <th>Taxa_Saturacao</th>\n",
              "      <th>Dias_Trabalho</th>\n",
              "    </tr>\n",
              "  </thead>\n",
              "  <tbody>\n",
              "    <tr>\n",
              "      <th>0</th>\n",
              "      <td>0</td>\n",
              "      <td>1</td>\n",
              "      <td>0</td>\n",
              "      <td>2.0</td>\n",
              "      <td>3.000000</td>\n",
              "      <td>3.8</td>\n",
              "      <td>0.16</td>\n",
              "      <td>4674</td>\n",
              "    </tr>\n",
              "    <tr>\n",
              "      <th>1</th>\n",
              "      <td>1</td>\n",
              "      <td>1</td>\n",
              "      <td>1</td>\n",
              "      <td>1.0</td>\n",
              "      <td>2.000000</td>\n",
              "      <td>5.0</td>\n",
              "      <td>0.36</td>\n",
              "      <td>4613</td>\n",
              "    </tr>\n",
              "    <tr>\n",
              "      <th>2</th>\n",
              "      <td>0</td>\n",
              "      <td>0</td>\n",
              "      <td>1</td>\n",
              "      <td>2.0</td>\n",
              "      <td>5.728188</td>\n",
              "      <td>5.8</td>\n",
              "      <td>0.49</td>\n",
              "      <td>4878</td>\n",
              "    </tr>\n",
              "    <tr>\n",
              "      <th>3</th>\n",
              "      <td>1</td>\n",
              "      <td>1</td>\n",
              "      <td>1</td>\n",
              "      <td>1.0</td>\n",
              "      <td>1.000000</td>\n",
              "      <td>2.6</td>\n",
              "      <td>0.20</td>\n",
              "      <td>4640</td>\n",
              "    </tr>\n",
              "    <tr>\n",
              "      <th>4</th>\n",
              "      <td>0</td>\n",
              "      <td>1</td>\n",
              "      <td>0</td>\n",
              "      <td>3.0</td>\n",
              "      <td>7.000000</td>\n",
              "      <td>6.9</td>\n",
              "      <td>0.52</td>\n",
              "      <td>4742</td>\n",
              "    </tr>\n",
              "  </tbody>\n",
              "</table>\n",
              "</div>"
            ],
            "text/plain": [
              "   Sexo  Tipo_Empresa  ...  Taxa_Saturacao  Dias_Trabalho\n",
              "0     0             1  ...            0.16           4674\n",
              "1     1             1  ...            0.36           4613\n",
              "2     0             0  ...            0.49           4878\n",
              "3     1             1  ...            0.20           4640\n",
              "4     0             1  ...            0.52           4742\n",
              "\n",
              "[5 rows x 8 columns]"
            ]
          },
          "metadata": {
            "tags": []
          },
          "execution_count": 128
        }
      ]
    },
    {
      "cell_type": "code",
      "metadata": {
        "id": "k_y9VhJZDvHr"
      },
      "source": [
        "# criando variáveis x e y para treinamento do modelo. \"y\" será a coluna a ser comparada\n",
        "y= dados.pop(\"Pontos_Fadiga_Mental\")\n",
        "X= dados"
      ],
      "execution_count": 129,
      "outputs": []
    },
    {
      "cell_type": "code",
      "metadata": {
        "colab": {
          "base_uri": "https://localhost:8080/"
        },
        "id": "_QOlA2t_Opx_",
        "outputId": "e8e643fb-3e25-4cd8-95e8-73ed43c842f3"
      },
      "source": [
        "y.head()"
      ],
      "execution_count": 132,
      "outputs": [
        {
          "output_type": "execute_result",
          "data": {
            "text/plain": [
              "0    3.8\n",
              "1    5.0\n",
              "2    5.8\n",
              "3    2.6\n",
              "4    6.9\n",
              "Name: Pontos_Fadiga_Mental, dtype: float64"
            ]
          },
          "metadata": {
            "tags": []
          },
          "execution_count": 132
        }
      ]
    },
    {
      "cell_type": "markdown",
      "metadata": {
        "id": "F_14lyi3m7NE"
      },
      "source": [
        "### Fazendo a Amostragem dos Dados"
      ]
    },
    {
      "cell_type": "code",
      "metadata": {
        "colab": {
          "base_uri": "https://localhost:8080/"
        },
        "id": "135hTnhkhRVs",
        "outputId": "c8e13170-a969-4640-9e69-e5f9f95c9507"
      },
      "source": [
        "# Dividindo os dados X e Y em treino e teste usando Train test split\n",
        "X_train, X_test, y_train, y_test = train_test_split(X, y, train_size=0.8, random_state= 42)\n",
        "\n",
        "# Verificando o tamanho dos dados apos split\n",
        "print(\"Tamanho do X_treino:\", X_train.shape)\n",
        "print(\"Tamanho do X_teste:\", X_test.shape)\n",
        "print(\"Tamanho do y_treino:\", y_train.shape)\n",
        "print(\"Tamanho do y_teste:\", y_test.shape)"
      ],
      "execution_count": 133,
      "outputs": [
        {
          "output_type": "stream",
          "text": [
            "Tamanho do X_treino: (18200, 7)\n",
            "Tamanho do X_teste: (4550, 7)\n",
            "Tamanho do y_treino: (18200,)\n",
            "Tamanho do y_teste: (4550,)\n"
          ],
          "name": "stdout"
        }
      ]
    },
    {
      "cell_type": "markdown",
      "metadata": {
        "id": "C17poDU9m3KQ"
      },
      "source": [
        "# Construíndo a Máquina Preditiva - XGBRegressor\n"
      ]
    },
    {
      "cell_type": "code",
      "metadata": {
        "id": "0hmpE1sdhv-o"
      },
      "source": [
        "# Construindo o modelo com XGBRegressor\n",
        "xgb_model = xgb.XGBRegressor()"
      ],
      "execution_count": 134,
      "outputs": []
    },
    {
      "cell_type": "code",
      "metadata": {
        "colab": {
          "base_uri": "https://localhost:8080/"
        },
        "id": "G19pbvJZ9MUd",
        "outputId": "78fd8f81-9bbe-4d50-c3d4-da8ed9088085"
      },
      "source": [
        "# treinamento da maquina preditiva para gerar os hiperparametros\n",
        "xgb_model.fit(X_train, y_train)"
      ],
      "execution_count": 135,
      "outputs": [
        {
          "output_type": "stream",
          "text": [
            "[17:06:13] WARNING: /workspace/src/objective/regression_obj.cu:152: reg:linear is now deprecated in favor of reg:squarederror.\n"
          ],
          "name": "stdout"
        },
        {
          "output_type": "execute_result",
          "data": {
            "text/plain": [
              "XGBRegressor(base_score=0.5, booster='gbtree', colsample_bylevel=1,\n",
              "             colsample_bynode=1, colsample_bytree=1, gamma=0,\n",
              "             importance_type='gain', learning_rate=0.1, max_delta_step=0,\n",
              "             max_depth=3, min_child_weight=1, missing=None, n_estimators=100,\n",
              "             n_jobs=1, nthread=None, objective='reg:linear', random_state=0,\n",
              "             reg_alpha=0, reg_lambda=1, scale_pos_weight=1, seed=None,\n",
              "             silent=None, subsample=1, verbosity=1)"
            ]
          },
          "metadata": {
            "tags": []
          },
          "execution_count": 135
        }
      ]
    },
    {
      "cell_type": "code",
      "metadata": {
        "id": "6LI10Z5chwEj"
      },
      "source": [
        "# predição do modelo\n",
        "y_predict= xgb_model.predict(X_test)"
      ],
      "execution_count": 136,
      "outputs": []
    },
    {
      "cell_type": "markdown",
      "metadata": {
        "id": "LJblQg0ZjfkW"
      },
      "source": [
        "# Avaliação da Máquina Preditiva - XGBRegressor"
      ]
    },
    {
      "cell_type": "code",
      "metadata": {
        "colab": {
          "base_uri": "https://localhost:8080/"
        },
        "id": "w3ylx4tFjkFg",
        "outputId": "159d1abe-a770-47dc-f1ad-79cffd328919"
      },
      "source": [
        "# Calcula a métrica R2 do modelo * XGBRegressor*\n",
        "resultado_xgb = r2_score(y_test, xgb_model.fit(X_train, y_train).predict(X_test))\n",
        "# resultado_xgb = r2_score(y_test, y_predict)\n",
        "print(\"Acurácia usando XGBRegressor: \", resultado_xgb)"
      ],
      "execution_count": 137,
      "outputs": [
        {
          "output_type": "stream",
          "text": [
            "[17:06:22] WARNING: /workspace/src/objective/regression_obj.cu:152: reg:linear is now deprecated in favor of reg:squarederror.\n",
            "Acurácia usando XGBRegressor:  0.8160634088228313\n"
          ],
          "name": "stdout"
        }
      ]
    },
    {
      "cell_type": "code",
      "metadata": {
        "colab": {
          "base_uri": "https://localhost:8080/",
          "height": 282
        },
        "id": "c3Fa4QD5kUxq",
        "outputId": "8dc7f9c1-38c2-436a-c71f-2aea8c3a6007"
      },
      "source": [
        "#Construir um gráfico de barras para definir as variáveis mais importantes\n",
        "feature_important = xgb_model.get_booster().get_score(importance_type='weight')\n",
        "keys = list(feature_important.keys())\n",
        "values = list(feature_important.values())\n",
        "\n",
        "dados2 = pd.DataFrame(data=values, index=keys, columns=[\"score\"]).sort_values(by = \"score\", ascending= True)\n",
        "dados2.plot(kind='barh')"
      ],
      "execution_count": 138,
      "outputs": [
        {
          "output_type": "execute_result",
          "data": {
            "text/plain": [
              "<matplotlib.axes._subplots.AxesSubplot at 0x7f879cb71e90>"
            ]
          },
          "metadata": {
            "tags": []
          },
          "execution_count": 138
        },
        {
          "output_type": "display_data",
          "data": {
            "image/png": "[encoded data removed]",
            "text/plain": [
              "<Figure size 432x288 with 1 Axes>"
            ]
          },
          "metadata": {
            "tags": [],
            "needs_background": "light"
          }
        }
      ]
    },
    {
      "cell_type": "markdown",
      "metadata": {
        "id": "1xTdN8qNlac9"
      },
      "source": [
        "Concluindo: a taxa de saturação é a váriavel mais importante a ser considerada na avaliação e tomada de decisão"
      ]
    },
    {
      "cell_type": "markdown",
      "metadata": {
        "id": "ctK9fAoeXb10"
      },
      "source": [
        "# Construíndo a Máquina Preditiva - LGBMRegressor\n"
      ]
    },
    {
      "cell_type": "code",
      "metadata": {
        "id": "ZcFpAZ3qXjph"
      },
      "source": [
        "## Construindo o modelo com LGBMRegressor\n",
        "lgb_model = lgb.LGBMRegressor(n_estimators=200)"
      ],
      "execution_count": null,
      "outputs": []
    },
    {
      "cell_type": "code",
      "metadata": {
        "id": "nYwJAWW5Xzf3"
      },
      "source": [
        "# Treinamento\n",
        "lgb_model.fit(X_train, y_train)"
      ],
      "execution_count": null,
      "outputs": []
    },
    {
      "cell_type": "code",
      "metadata": {
        "id": "2hoCr9vOX0vj"
      },
      "source": [
        "# Predição do modelo\n",
        "y_predict= lgb_model.predict(X_test)"
      ],
      "execution_count": null,
      "outputs": []
    },
    {
      "cell_type": "markdown",
      "metadata": {
        "id": "RdMLL-Z6m3Mg"
      },
      "source": [
        "# Avaliação da Máquina Preditiva - LGBMRegressor"
      ]
    },
    {
      "cell_type": "code",
      "metadata": {
        "colab": {
          "base_uri": "https://localhost:8080/"
        },
        "id": "xxDE5XMramcc",
        "outputId": "2d02d4eb-ddcf-4c9d-b636-043c0fd30a3e"
      },
      "source": [
        "# Calcula a métrica R2 (modelo de regressão) do modelo LGBMRegressor\n",
        "resultado_lgbm = r2_score(y_test, lgb_model.fit(X_train, y_train).predict(X_test))\n",
        "print(\"Acurácia usando LGBMRegressor: \", resultado_lgbm)"
      ],
      "execution_count": 95,
      "outputs": [
        {
          "output_type": "stream",
          "text": [
            "[16:56:34] WARNING: /workspace/src/objective/regression_obj.cu:152: reg:linear is now deprecated in favor of reg:squarederror.\n",
            "Acurácia usando XGBRegressor:  0.8160634088228313\n"
          ],
          "name": "stdout"
        }
      ]
    },
    {
      "cell_type": "markdown",
      "metadata": {
        "id": "YMbPimAQbKCB"
      },
      "source": [
        "XGB R2 = 0.8160\n",
        "\n",
        "LGB R2 = 0.8050\n"
      ]
    }
  ]
}
