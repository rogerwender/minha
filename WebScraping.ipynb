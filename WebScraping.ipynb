{
  "nbformat": 4,
  "nbformat_minor": 0,
  "metadata": {
    "colab": {
      "name": "WebScraping.ipynb",
      "provenance": [],
      "authorship_tag": "ABX9TyOm6wvon0FnhoTA0N156VdA",
      "include_colab_link": true
    },
    "kernelspec": {
      "name": "python3",
      "display_name": "Python 3"
    },
    "language_info": {
      "name": "python"
    }
  },
  "cells": [
    {
      "cell_type": "markdown",
      "metadata": {
        "id": "view-in-github",
        "colab_type": "text"
      },
      "source": [
        "<a href=\"https://colab.research.google.com/github/rogerwender/DataScience/blob/main/WebScraping.ipynb\" target=\"_parent\"><img src=\"https://colab.research.google.com/assets/colab-badge.svg\" alt=\"Open In Colab\"/></a>"
      ]
    },
    {
      "cell_type": "markdown",
      "metadata": {
        "id": "wL_xKL55bNM9"
      },
      "source": [
        "#Web Scraping"
      ]
    },
    {
      "cell_type": "code",
      "metadata": {
        "colab": {
          "base_uri": "https://localhost:8080/"
        },
        "id": "e7bnqnCnbMsS",
        "outputId": "085db53c-c170-41d4-ff70-ecf3f43a645c"
      },
      "source": [
        "!pip install beautifulsoup4"
      ],
      "execution_count": 6,
      "outputs": [
        {
          "output_type": "stream",
          "text": [
            "Requirement already satisfied: beautifulsoup4 in /usr/local/lib/python3.7/dist-packages (4.6.3)\n"
          ],
          "name": "stdout"
        }
      ]
    },
    {
      "cell_type": "code",
      "metadata": {
        "colab": {
          "base_uri": "https://localhost:8080/"
        },
        "id": "cgLETiAdbd5f",
        "outputId": "9975e18b-31e1-4e6a-e17e-5362ae6ad490"
      },
      "source": [
        "from bs4 import BeautifulSoup\n",
        "import requests\n",
        "codigo_html = requests.get(\"https://www.climatempo.com.br/previsao-do-tempo/cidade/88/goiania-go\").content\n",
        "soup = BeautifulSoup(codigo_html, 'html.parser')\n",
        "resume = soup.find(class_='-gray -line-height-24 _center')\n",
        "temperatura_Minima = soup.find(id='min-temp-1')\n",
        "temperatura_Maxima = soup.find(id='max-temp-1')\n",
        "print('Resumo: ' + resume.text)\n",
        "print('Temperatura minima: ' + temperatura_Minima.string)\n",
        "print('Temperatura maxima: ' + temperatura_Maxima.string)"
      ],
      "execution_count": 12,
      "outputs": [
        {
          "output_type": "stream",
          "text": [
            "Resumo: \n",
            "Hoje\n",
            "será\n",
            "parecido com ontem\n",
            "\n",
            "\n",
            "\n",
            "\n",
            "Sol com algumas nuvens. Não chove.\n",
            "\n",
            "Temperatura minima: 15°\n",
            "Temperatura maxima: 30°\n"
          ],
          "name": "stdout"
        }
      ]
    },
    {
      "cell_type": "code",
      "metadata": {
        "id": "z_l-jJLAbsd0"
      },
      "source": [
        ""
      ],
      "execution_count": null,
      "outputs": []
    }
  ]
}
