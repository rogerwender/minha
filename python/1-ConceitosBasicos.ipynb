{
  "nbformat": 4,
  "nbformat_minor": 0,
  "metadata": {
    "colab": {
      "name": "1-ConceitosBasicos.ipynb",
      "provenance": [],
      "authorship_tag": "ABX9TyO/FSekqtxdrMwg+jjn86JX",
      "include_colab_link": true
    },
    "kernelspec": {
      "name": "python3",
      "display_name": "Python 3",
      "language": "python"
    }
  },
  "cells": [
    {
      "source": [
        "#Comandos básicos em Python"
      ],
      "cell_type": "code",
      "metadata": {},
      "execution_count": 7,
      "outputs": []
    },
    {
      "cell_type": "code",
      "metadata": {
        "colab": {
          "base_uri": "https://localhost:8080/"
        },
        "id": "N_8tRQakxhWP",
        "outputId": "f9cf149e-404a-49f5-cfbc-2b93ba464bdb"
      },
      "source": [
        "print (\"Estudos Python\") #comentario linguagem de programação?\")\r\n",
        "nome = input(\"Qual é a melhor linguagem de programação?\")\r\n",
        "if nome == \"python\":\r\n",
        "  print (\"voce acertou\")\r\n",
        "else:\r\n",
        "  print (\"errou\")"
      ],
      "execution_count": 8,
      "outputs": [
        {
          "output_type": "stream",
          "name": "stdout",
          "text": [
            "Estudos Python\n",
            "voce acertou\n"
          ]
        }
      ]
    },
    {
      "cell_type": "code",
      "metadata": {
        "id": "Ol_JkFfu0MbQ"
      },
      "source": [
        "#Dicionario\r\n",
        "dicionario = {\"nome\":\"Joao\", \"idade\":28}\r\n",
        "print(dicionario)\r\n",
        "\r\n",
        "#Lista\r\n",
        "lista = [\"item1\", \"item2\", 3, \"quatro\", 3.14]\r\n",
        "print(lista)\r\n",
        "type(lista)\r\n",
        "\r\n",
        "tupla = (1,2,3,\"python\")\r\n",
        "print(tupla)\r\n",
        "\r\n",
        "type(tupla)"
      ],
      "execution_count": 1,
      "outputs": [
        {
          "output_type": "stream",
          "name": "stdout",
          "text": [
            "{'nome': 'Joao', 'idade': 28}\n['item1', 'item2', 3, 'quatro', 3.14]\n(1, 2, 3, 'python')\n"
          ]
        },
        {
          "output_type": "execute_result",
          "data": {
            "text/plain": [
              "tuple"
            ]
          },
          "metadata": {},
          "execution_count": 1
        }
      ]
    },
    {
      "cell_type": "code",
      "execution_count": 2,
      "metadata": {},
      "outputs": [
        {
          "output_type": "stream",
          "name": "stdout",
          "text": [
            "0\n"
          ]
        }
      ],
      "source": [
        "x = range(10)\n",
        "zero = x[0]\n",
        "um = x[1]\n",
        "print(x[0])\n"
      ]
    },
    {
      "cell_type": "code",
      "execution_count": 23,
      "metadata": {},
      "outputs": [
        {
          "output_type": "stream",
          "name": "stdout",
          "text": [
            "[0, 2, 4, 6, 8, 10, 12, 14, 16, 18, 20, 22, 24, 26, 28, 30, 32, 34, 36, 38, 40, 42, 44, 46, 48, 50, 52, 54, 56, 58, 60, 62, 64, 66, 68, 70, 72, 74, 76, 78, 80, 82, 84, 86, 88, 90, 92, 94, 96, 98]\n"
          ]
        }
      ],
      "source": []
    },
    {
      "cell_type": "code",
      "execution_count": 27,
      "metadata": {},
      "outputs": [
        {
          "output_type": "stream",
          "name": "stdout",
          "text": [
            "Impossivel modificar tupla\n"
          ]
        }
      ],
      "source": [
        "#Try Catch em Python\n",
        "x = range(10)\n",
        "try:\n",
        "    x[0] = -1\n",
        "except TypeError:\n",
        "    print(\"Impossivel modificar tupla\")"
      ]
    },
    {
      "cell_type": "code",
      "execution_count": 29,
      "metadata": {},
      "outputs": [
        {
          "output_type": "stream",
          "name": "stdout",
          "text": [
            "5 6\n5\n"
          ]
        }
      ],
      "source": [
        "#Retornando dois valores na função\n",
        "def soma_e_produto(x,y):\n",
        "    return(x+y), (x*y)\n",
        "\n",
        "s,p = soma_e_produto(2,3)\n",
        "\n",
        "print(s,p)\n",
        "\n",
        "x = s\n",
        "print(x)"
      ]
    },
    {
      "cell_type": "code",
      "execution_count": 26,
      "metadata": {},
      "outputs": [
        {
          "output_type": "stream",
          "name": "stdout",
          "text": [
            "dict_keys(['joel', 'marcos', 'maria', 'dias'])\ndict_values([80, 98, 98, 81])\ndict_items([('joel', 80), ('marcos', 98), ('maria', 98), ('dias', 81)])\n"
          ]
        }
      ],
      "source": [
        "\n",
        "lista_chaves = escores.keys()\n",
        "print(lista_chaves)\n",
        "\n",
        "lista_valores = escores.values()\n",
        "print(lista_valores)\n",
        "\n",
        "\n",
        "lista_itens = escores.items()\n",
        "print(lista_itens)\n",
        "\n"
      ]
    },
    {
      "cell_type": "code",
      "execution_count": 27,
      "metadata": {},
      "outputs": [
        {
          "output_type": "error",
          "ename": "FileNotFoundError",
          "evalue": "[Errno 2] No such file or directory: '//alice.txt'",
          "traceback": [
            "\u001b[1;31m---------------------------------------------------------------------------\u001b[0m",
            "\u001b[1;31mFileNotFoundError\u001b[0m                         Traceback (most recent call last)",
            "\u001b[1;32m<ipython-input-27-b8b7a44997dd>\u001b[0m in \u001b[0;36m<module>\u001b[1;34m\u001b[0m\n\u001b[0;32m      1\u001b[0m \u001b[1;31m#Ler arquivo txt, colocar tudo minusculo, e fatiar as palavras\u001b[0m\u001b[1;33m\u001b[0m\u001b[1;33m\u001b[0m\u001b[1;33m\u001b[0m\u001b[0m\n\u001b[1;32m----> 2\u001b[1;33m \u001b[0mdocument\u001b[0m \u001b[1;33m=\u001b[0m \u001b[0mlist\u001b[0m\u001b[1;33m(\u001b[0m\u001b[0mopen\u001b[0m\u001b[1;33m(\u001b[0m\u001b[1;34m\"//alice.txt\"\u001b[0m\u001b[1;33m)\u001b[0m\u001b[1;33m.\u001b[0m\u001b[0mread\u001b[0m\u001b[1;33m(\u001b[0m\u001b[1;33m)\u001b[0m\u001b[1;33m.\u001b[0m\u001b[0mlower\u001b[0m\u001b[1;33m(\u001b[0m\u001b[1;33m)\u001b[0m\u001b[1;33m.\u001b[0m\u001b[0msplit\u001b[0m\u001b[1;33m(\u001b[0m\u001b[1;33m)\u001b[0m\u001b[1;33m)\u001b[0m\u001b[1;33m\u001b[0m\u001b[1;33m\u001b[0m\u001b[0m\n\u001b[0m\u001b[0;32m      3\u001b[0m \u001b[1;33m\u001b[0m\u001b[0m\n\u001b[0;32m      4\u001b[0m \u001b[1;33m\u001b[0m\u001b[0m\n\u001b[0;32m      5\u001b[0m \u001b[1;31m#\u001b[0m\u001b[1;33m\u001b[0m\u001b[1;33m\u001b[0m\u001b[1;33m\u001b[0m\u001b[0m\n",
            "\u001b[1;31mFileNotFoundError\u001b[0m: [Errno 2] No such file or directory: '//alice.txt'"
          ]
        }
      ],
      "source": [
        "#Ler arquivo txt, colocar tudo minusculo, e fatiar as palavras\n",
        "document = list(open(\"//alice.txt\").read().lower().split())\n",
        "\n",
        "\n",
        "# contar valor de palavras que aparecem\n",
        "from collections import Counter\n",
        "Counter(document)"
      ]
    },
    {
      "cell_type": "code",
      "execution_count": 31,
      "metadata": {},
      "outputs": [
        {
          "output_type": "stream",
          "name": "stdout",
          "text": [
            "[1, 3, 4, 5]\n[1, 3, 4, 5]\n"
          ]
        }
      ],
      "source": [
        "x = [4,1,5,3]\n",
        "y = sorted(x)\n",
        "x.sort()\n",
        "print(x)\n",
        "print(y)"
      ]
    },
    {
      "cell_type": "code",
      "execution_count": 32,
      "metadata": {},
      "outputs": [
        {
          "output_type": "execute_result",
          "data": {
            "text/plain": [
              "[('was', 42), ('and', 43), ('to', 50), ('she', 51), ('the', 66)]"
            ]
          },
          "metadata": {},
          "execution_count": 32
        }
      ],
      "source": []
    }
  ]
}