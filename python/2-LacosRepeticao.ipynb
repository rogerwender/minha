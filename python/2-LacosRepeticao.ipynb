{
 "metadata": {
  "language_info": {
   "codemirror_mode": {
    "name": "ipython",
    "version": 3
   },
   "file_extension": ".py",
   "mimetype": "text/x-python",
   "name": "python",
   "nbconvert_exporter": "python",
   "pygments_lexer": "ipython3",
   "version": "3.8.3-final"
  },
  "orig_nbformat": 2,
  "kernelspec": {
   "name": "python3",
   "display_name": "Python 3",
   "language": "python"
  }
 },
 "nbformat": 4,
 "nbformat_minor": 2,
 "cells": [
  {
   "cell_type": "code",
   "execution_count": null,
   "metadata": {},
   "outputs": [],
   "source": [
    "# Python - Laços de repetição"
   ]
  },
  {
   "cell_type": "code",
   "execution_count": 1,
   "metadata": {},
   "outputs": [
    {
     "output_type": "stream",
     "name": "stdout",
     "text": [
      "Numero: 1 \nNumero: 2 \nNumero: 3 \nNumero: 4 \nNumero: 5 \nNumero: 6 \nNumero: 7 \nNumero: 8 \nNumero: 9 \nO while acabou\n"
     ]
    }
   ],
   "source": [
    "#Laço While\n",
    "x = 1\n",
    "while x < 10:\n",
    "  print (\"Numero: %s \" %x)\n",
    "  x += 1\n",
    "print(\"O while acabou\")"
   ]
  },
  {
   "cell_type": "code",
   "execution_count": 2,
   "metadata": {},
   "outputs": [
    {
     "output_type": "stream",
     "name": "stdout",
     "text": [
      "Laranja\nMelancia\nUva\n"
     ]
    }
   ],
   "source": [
    "#Laço for\n",
    "fruta = [\"Laranja\", \"Melancia\", \"Uva\"]\n",
    "for f in fruta:\n",
    "  print(f)"
   ]
  },
  {
   "cell_type": "code",
   "execution_count": null,
   "metadata": {},
   "outputs": [],
   "source": []
  }
 ]
}