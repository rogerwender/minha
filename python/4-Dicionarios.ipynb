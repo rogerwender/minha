{
 "metadata": {
  "language_info": {
   "codemirror_mode": {
    "name": "ipython",
    "version": 3
   },
   "file_extension": ".py",
   "mimetype": "text/x-python",
   "name": "python",
   "nbconvert_exporter": "python",
   "pygments_lexer": "ipython3",
   "version": "3.8.3-final"
  },
  "orig_nbformat": 2,
  "kernelspec": {
   "name": "python3",
   "display_name": "Python 3",
   "language": "python"
  }
 },
 "nbformat": 4,
 "nbformat_minor": 2,
 "cells": [
  {
   "cell_type": "code",
   "execution_count": null,
   "metadata": {},
   "outputs": [],
   "source": []
  },
  {
   "cell_type": "code",
   "execution_count": 1,
   "metadata": {},
   "outputs": [
    {
     "output_type": "stream",
     "name": "stdout",
     "text": [
      "Nao existe nota para Dias\n80\nNone\n98\n"
     ]
    },
    {
     "output_type": "execute_result",
     "data": {
      "text/plain": [
       "<function dict.items>"
      ]
     },
     "metadata": {},
     "execution_count": 1
    }
   ],
   "source": [
    "#Como declarar dicionario\n",
    "dic_vazio = {}\n",
    "dic_vazio2 = dict()\n",
    "escores = {'joel':80, 'marcos':98}\n",
    "\n",
    "nota_joel = escores['joel']\n",
    "nota_joel\n",
    "\n",
    "try:\n",
    "    notas_dias = escores['dias']\n",
    "except KeyError:\n",
    "    print('Nao existe nota para Dias')\n",
    "\n",
    "joel_tem_nota = 'joel' in escores;\n",
    "dias_tem_nota = 'dias' in escores;\n",
    "\n",
    "#capturando valores atraves do get(key)\n",
    "nota_joel2 = escores.get('joel')\n",
    "nota_dias2 = escores.get('dias')\n",
    "nota_marcos = escores.get('marcos')\n",
    "\n",
    "\n",
    "print(nota_joel2)\n",
    "print(nota_dias2)\n",
    "print(nota_marcos)\n",
    "\n",
    "#Adicionando ou atualizando um dicionario\n",
    "escores.update({'maria': 98})\n",
    "escores.update({'dias': 81})\n",
    "\n",
    "escores\n",
    "\n",
    "lista_chaves = escores.keys()\n",
    "lista_valores = escores.values()\n",
    "lista_itens = escores.items\n",
    "\n",
    "lista_chaves\n",
    "lista_valores\n",
    "lista_itens"
   ]
  },
  {
   "cell_type": "code",
   "execution_count": 2,
   "metadata": {},
   "outputs": [
    {
     "output_type": "execute_result",
     "data": {
      "text/plain": [
       "[('was', 42), ('and', 43), ('to', 50), ('she', 51), ('the', 66)]"
      ]
     },
     "metadata": {},
     "execution_count": 2
    }
   ],
   "source": [
    "#Ordenar dicionario\n",
    "dicionario = {'to':50,'and':43,'was':42,'she':51,'the':66}\n",
    "wc = sorted(dicionario.items(),key= lambda chave_valor:chave_valor[1],reverse=False)\n",
    "wc"
   ]
  },
  {
   "cell_type": "code",
   "execution_count": null,
   "metadata": {},
   "outputs": [],
   "source": []
  }
 ]
}