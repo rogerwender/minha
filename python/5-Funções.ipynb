{
 "metadata": {
  "language_info": {
   "codemirror_mode": {
    "name": "ipython",
    "version": 3
   },
   "file_extension": ".py",
   "mimetype": "text/x-python",
   "name": "python",
   "nbconvert_exporter": "python",
   "pygments_lexer": "ipython3",
   "version": "3.8.3-final"
  },
  "orig_nbformat": 2,
  "kernelspec": {
   "name": "python3",
   "display_name": "Python 3",
   "language": "python"
  }
 },
 "nbformat": 4,
 "nbformat_minor": 2,
 "cells": [
  {
   "cell_type": "code",
   "execution_count": 1,
   "metadata": {},
   "outputs": [
    {
     "output_type": "stream",
     "name": "stdout",
     "text": [
      "10\n9\n8\n7\n6\n5\n4\n3\n2\n1\n"
     ]
    }
   ],
   "source": [
    "#Funcao range\n",
    "for i in range(10, 0, -1): #parametros função range(inicio, fim, incremento)\n",
    "  print(i)"
   ]
  },
  {
   "cell_type": "code",
   "execution_count": null,
   "metadata": {},
   "outputs": [],
   "source": [
    "# Função retornando 2 valores\n",
    "def divisao (dividendo, divisor):\n",
    "  quociente = dividendo // divisor\n",
    "  resto = dividendo % divisor\n",
    "  return quociente, resto\n",
    "\n",
    "q, r = divisao(35, 3)\n",
    "print(q, r)\n",
    "\n",
    "_, r = divisao(35,3)\n"
   ]
  },
  {
   "cell_type": "code",
   "execution_count": 2,
   "metadata": {},
   "outputs": [
    {
     "output_type": "stream",
     "name": "stdout",
     "text": [
      "4\n"
     ]
    }
   ],
   "source": [
    "#função lambda\n",
    "var = lambda x: x*2\n",
    "print(var(2))"
   ]
  },
  {
   "cell_type": "code",
   "execution_count": 3,
   "metadata": {},
   "outputs": [
    {
     "output_type": "stream",
     "name": "stdout",
     "text": [
      "100\n1000\n10000\n"
     ]
    }
   ],
   "source": [
    "#Lista de função anonimas\n",
    "anonimas = [lambda x: x**2, \n",
    "            lambda x: x**3,\n",
    "            lambda x: x**4]\n",
    "for a in anonimas:\n",
    "  print(a(10))"
   ]
  },
  {
   "cell_type": "code",
   "execution_count": 13,
   "metadata": {},
   "outputs": [
    {
     "output_type": "stream",
     "name": "stdout",
     "text": [
      "Primeiro texto, concatena com este. \n"
     ]
    }
   ],
   "source": [
    "def concatDupla(parte1, parte2):\n",
    "  concat = parte1 + parte2\n",
    "  print(concat)\n",
    "\n",
    "canto1 = 'Primeiro texto, '\n",
    "canto2 = 'concatena com este. '\n",
    "concatDupla(canto1, canto2)"
   ]
  },
  {
   "cell_type": "code",
   "execution_count": null,
   "metadata": {},
   "outputs": [],
   "source": []
  }
 ]
}