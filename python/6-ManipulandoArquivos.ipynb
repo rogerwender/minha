{
 "metadata": {
  "language_info": {
   "codemirror_mode": {
    "name": "ipython",
    "version": 3
   },
   "file_extension": ".py",
   "mimetype": "text/x-python",
   "name": "python",
   "nbconvert_exporter": "python",
   "pygments_lexer": "ipython3",
   "version": "3.8.3-final"
  },
  "orig_nbformat": 2,
  "kernelspec": {
   "name": "python3",
   "display_name": "Python 3",
   "language": "python"
  }
 },
 "nbformat": 4,
 "nbformat_minor": 2,
 "cells": [
  {
   "cell_type": "code",
   "execution_count": 27,
   "metadata": {},
   "outputs": [
    {
     "output_type": "execute_result",
     "data": {
      "text/plain": [
       "array([0.        , 0.00502513, 0.01005025, 0.01507538, 0.0201005 ,\n",
       "       0.02512563, 0.03015075, 0.03517588, 0.04020101, 0.04522613,\n",
       "       0.05025126, 0.05527638, 0.06030151, 0.06532663, 0.07035176,\n",
       "       0.07537688, 0.08040201, 0.08542714, 0.09045226, 0.09547739,\n",
       "       0.10050251, 0.10552764, 0.11055276, 0.11557789, 0.12060302,\n",
       "       0.12562814, 0.13065327, 0.13567839, 0.14070352, 0.14572864,\n",
       "       0.15075377, 0.15577889, 0.16080402, 0.16582915, 0.17085427,\n",
       "       0.1758794 , 0.18090452, 0.18592965, 0.19095477, 0.1959799 ,\n",
       "       0.20100503, 0.20603015, 0.21105528, 0.2160804 , 0.22110553,\n",
       "       0.22613065, 0.23115578, 0.2361809 , 0.24120603, 0.24623116,\n",
       "       0.25125628, 0.25628141, 0.26130653, 0.26633166, 0.27135678,\n",
       "       0.27638191, 0.28140704, 0.28643216, 0.29145729, 0.29648241,\n",
       "       0.30150754, 0.30653266, 0.31155779, 0.31658291, 0.32160804,\n",
       "       0.32663317, 0.33165829, 0.33668342, 0.34170854, 0.34673367,\n",
       "       0.35175879, 0.35678392, 0.36180905, 0.36683417, 0.3718593 ,\n",
       "       0.37688442, 0.38190955, 0.38693467, 0.3919598 , 0.39698492,\n",
       "       0.40201005, 0.40703518, 0.4120603 , 0.41708543, 0.42211055,\n",
       "       0.42713568, 0.4321608 , 0.43718593, 0.44221106, 0.44723618,\n",
       "       0.45226131, 0.45728643, 0.46231156, 0.46733668, 0.47236181,\n",
       "       0.47738693, 0.48241206, 0.48743719, 0.49246231, 0.49748744,\n",
       "       0.50251256, 0.50753769, 0.51256281, 0.51758794, 0.52261307,\n",
       "       0.52763819, 0.53266332, 0.53768844, 0.54271357, 0.54773869,\n",
       "       0.55276382, 0.55778894, 0.56281407, 0.5678392 , 0.57286432,\n",
       "       0.57788945, 0.58291457, 0.5879397 , 0.59296482, 0.59798995,\n",
       "       0.60301508, 0.6080402 , 0.61306533, 0.61809045, 0.62311558,\n",
       "       0.6281407 , 0.63316583, 0.63819095, 0.64321608, 0.64824121,\n",
       "       0.65326633, 0.65829146, 0.66331658, 0.66834171, 0.67336683,\n",
       "       0.67839196, 0.68341709, 0.68844221, 0.69346734, 0.69849246,\n",
       "       0.70351759, 0.70854271, 0.71356784, 0.71859296, 0.72361809,\n",
       "       0.72864322, 0.73366834, 0.73869347, 0.74371859, 0.74874372,\n",
       "       0.75376884, 0.75879397, 0.7638191 , 0.76884422, 0.77386935,\n",
       "       0.77889447, 0.7839196 , 0.78894472, 0.79396985, 0.79899497,\n",
       "       0.8040201 , 0.80904523, 0.81407035, 0.81909548, 0.8241206 ,\n",
       "       0.82914573, 0.83417085, 0.83919598, 0.84422111, 0.84924623,\n",
       "       0.85427136, 0.85929648, 0.86432161, 0.86934673, 0.87437186,\n",
       "       0.87939698, 0.88442211, 0.88944724, 0.89447236, 0.89949749,\n",
       "       0.90452261, 0.90954774, 0.91457286, 0.91959799, 0.92462312,\n",
       "       0.92964824, 0.93467337, 0.93969849, 0.94472362, 0.94974874,\n",
       "       0.95477387, 0.95979899, 0.96482412, 0.96984925, 0.97487437,\n",
       "       0.9798995 , 0.98492462, 0.98994975, 0.99497487, 1.        ])"
      ]
     },
     "metadata": {},
     "execution_count": 27
    }
   ],
   "source": [
    "alist = [1,2,3]\n",
    "arr = np.array(alist)\n",
    "\n",
    "#criando array de 'zeros' tendo n elementos\n",
    "array1 = np.zeros(5)\n",
    "array1\n",
    "\n",
    "#Criando um array obedecendo um range\n",
    "array2 = np.arange(100)\n",
    "array2\n",
    "\n",
    "#de 10 a 100\n",
    "array3 = np.arange(10, 100)\n",
    "array3\n",
    "\n",
    "#200 passos entre 0 e 1\n",
    "array4 = np.linspace(0,1, 200)\n",
    "array4"
   ]
  },
  {
   "cell_type": "code",
   "execution_count": 49,
   "metadata": {},
   "outputs": [
    {
     "output_type": "execute_result",
     "data": {
      "text/plain": [
       "array([[[1., 1., 1., 1., 1.],\n",
       "        [1., 1., 1., 1., 1.],\n",
       "        [1., 1., 1., 1., 1.],\n",
       "        [1., 1., 1., 1., 1.],\n",
       "        [1., 1., 1., 1., 1.]],\n",
       "\n",
       "       [[1., 1., 1., 1., 1.],\n",
       "        [1., 1., 1., 1., 1.],\n",
       "        [1., 1., 1., 1., 1.],\n",
       "        [1., 1., 1., 1., 1.],\n",
       "        [1., 1., 1., 1., 1.]],\n",
       "\n",
       "       [[1., 1., 1., 1., 1.],\n",
       "        [1., 1., 1., 1., 1.],\n",
       "        [1., 1., 1., 1., 1.],\n",
       "        [1., 1., 1., 1., 1.],\n",
       "        [1., 1., 1., 1., 1.]],\n",
       "\n",
       "       [[1., 1., 1., 1., 1.],\n",
       "        [1., 1., 1., 1., 1.],\n",
       "        [1., 1., 1., 1., 1.],\n",
       "        [1., 1., 1., 1., 1.],\n",
       "        [1., 1., 1., 1., 1.]],\n",
       "\n",
       "       [[1., 1., 1., 1., 1.],\n",
       "        [1., 1., 1., 1., 1.],\n",
       "        [1., 1., 1., 1., 1.],\n",
       "        [1., 1., 1., 1., 1.],\n",
       "        [1., 1., 1., 1., 1.]]], dtype=float16)"
      ]
     },
     "metadata": {},
     "execution_count": 49
    }
   ],
   "source": [
    "#criar uma matriz 5x5\n",
    "image = np.zeros((5,5))\n",
    "image\n",
    "\n",
    "#criar um cubo 5x5x5\n",
    "cube = np.zeros((5,5,5)).astype(int)+1\n",
    "cube\n",
    "\n",
    "cube2 = np.ones((5,5,5)).astype(np.float16)\n",
    "cube2"
   ]
  },
  {
   "cell_type": "code",
   "execution_count": 52,
   "metadata": {},
   "outputs": [
    {
     "output_type": "execute_result",
     "data": {
      "text/plain": [
       "array([5.9845467, 0.       ], dtype=float32)"
      ]
     },
     "metadata": {},
     "execution_count": 52
    }
   ],
   "source": [
    "#array de zeros do tipo inteiro\n",
    "arr = np.zeros(2, dtype = int)\n",
    "arr[0] = 5.98454654315\n",
    "arr\n",
    "\n",
    "#array de zeros do tipo float\n",
    "arr1 = np.zeros(2, dtype=np.float32)\n",
    "arr1[0] = 5.98454654315\n",
    "arr1"
   ]
  },
  {
   "cell_type": "code",
   "execution_count": 55,
   "metadata": {},
   "outputs": [
    {
     "output_type": "execute_result",
     "data": {
      "text/plain": [
       "array([[[  0,   1,   2,   3,   4],\n",
       "        [  5,   6,   7,   8,   9],\n",
       "        [ 10,  11,  12,  13,  14],\n",
       "        [ 15,  16,  17,  18,  19],\n",
       "        [ 20,  21,  22,  23,  24]],\n",
       "\n",
       "       [[ 25,  26,  27,  28,  29],\n",
       "        [ 30,  31,  32,  33,  34],\n",
       "        [ 35,  36,  37,  38,  39],\n",
       "        [ 40,  41,  42,  43,  44],\n",
       "        [ 45,  46,  47,  48,  49]],\n",
       "\n",
       "       [[ 50,  51,  52,  53,  54],\n",
       "        [ 55,  56,  57,  58,  59],\n",
       "        [ 60,  61,  62,  63,  64],\n",
       "        [ 65,  66,  67,  68,  69],\n",
       "        [ 70,  71,  72,  73,  74]],\n",
       "\n",
       "       [[ 75,  76,  77,  78,  79],\n",
       "        [ 80,  81,  82,  83,  84],\n",
       "        [ 85,  86,  87,  88,  89],\n",
       "        [ 90,  91,  92,  93,  94],\n",
       "        [ 95,  96,  97,  98,  99]],\n",
       "\n",
       "       [[100, 101, 102, 103, 104],\n",
       "        [105, 106, 107, 108, 109],\n",
       "        [110, 111, 112, 113, 114],\n",
       "        [115, 116, 117, 118, 119],\n",
       "        [120, 121, 122, 123, 124]]])"
      ]
     },
     "metadata": {},
     "execution_count": 55
    }
   ],
   "source": [
    "#modelando um array 3D de 5x5x5\n",
    "arr1d = np.arange(125)\n",
    "arr3d = arr1d.reshape((5,5,5))\n",
    "arr3d"
   ]
  },
  {
   "cell_type": "code",
   "execution_count": 60,
   "metadata": {},
   "outputs": [
    {
     "output_type": "execute_result",
     "data": {
      "text/plain": [
       "array([0., 0., 0., ..., 0., 0., 0.])"
      ]
     },
     "metadata": {},
     "execution_count": 60
    }
   ],
   "source": [
    "#\"achatando\" matrizes\n",
    "arr5d = np.arange(1000)\n",
    "arr4d = np.zeros((10,10,10,10))\n",
    "arr5d = arr4d.ravel()\n",
    "arr5d"
   ]
  },
  {
   "cell_type": "code",
   "execution_count": 67,
   "metadata": {},
   "outputs": [
    {
     "output_type": "execute_result",
     "data": {
      "text/plain": [
       "array([(1, 2., b'hello'), (2, 3., b'world')],\n",
       "      dtype=[('f0', '<i4'), ('f1', '<f4'), ('f2', 'S10')])"
      ]
     },
     "metadata": {},
     "execution_count": 67
    }
   ],
   "source": [
    "#criando um vetor de zeros e definindo tipos de coluna\n",
    "recarr = np.zeros((2,), dtype=('i4,f4,a10'))\n",
    "recarr\n",
    "\n",
    "#definindo valores para adcionar ao array\n",
    "toad = [(1,2., 'hello'), (2,3.,'world')]\n",
    "recarr[:] = toad\n",
    "recarr"
   ]
  },
  {
   "cell_type": "code",
   "execution_count": 72,
   "metadata": {},
   "outputs": [
    {
     "output_type": "execute_result",
     "data": {
      "text/plain": [
       "array([(1, 0., b'Hello'), (2, 1., b'World'), (3, 2., b'my'),\n",
       "       (4, 3., b'friend')],\n",
       "      dtype=[('f0', '<i4'), ('f1', '<f4'), ('f2', 'S10')])"
      ]
     },
     "metadata": {},
     "execution_count": 72
    }
   ],
   "source": [
    "recarr2 = np.zeros((4,), dtype=('i4,f4,a10'))\n",
    "\n",
    "col1 = np.arange(4)+1\n",
    "col2 = np.arange(4, dtype=np.float32)\n",
    "col3 = ['Hello', 'World', 'my', 'friend']\n",
    "\n",
    "toadd = zip(col1,col2,col3)\n",
    "\n",
    "recarr2[:] = list(toadd)\n",
    "recarr2"
   ]
  },
  {
   "cell_type": "code",
   "execution_count": 78,
   "metadata": {},
   "outputs": [
    {
     "output_type": "execute_result",
     "data": {
      "text/plain": [
       "array([b'hello', b'world'], dtype='|S10')"
      ]
     },
     "metadata": {},
     "execution_count": 78
    }
   ],
   "source": [
    "#chamando uma coluna pelo titulo\n",
    "recarr.dtype.names = ('Integers', 'Floats', 'Strings')\n",
    "\n",
    "recarr['Strings']\n",
    "\n"
   ]
  },
  {
   "cell_type": "code",
   "execution_count": 80,
   "metadata": {},
   "outputs": [
    {
     "output_type": "execute_result",
     "data": {
      "text/plain": [
       "2"
      ]
     },
     "metadata": {},
     "execution_count": 80
    }
   ],
   "source": [
    "#buscando elementos em python\n",
    "novaLista = [[1,2],[3,4]]\n",
    "novaLista[0][1]\n"
   ]
  },
  {
   "cell_type": "code",
   "execution_count": 87,
   "metadata": {},
   "outputs": [
    {
     "output_type": "execute_result",
     "data": {
      "text/plain": [
       "array([3, 4])"
      ]
     },
     "metadata": {},
     "execution_count": 87
    }
   ],
   "source": [
    "arr = np.array(novaLista)\n",
    "arr[0, 1]\n",
    "\n",
    "arr[:,1]\n",
    "\n",
    "arr[1,:]"
   ]
  },
  {
   "cell_type": "code",
   "execution_count": 94,
   "metadata": {},
   "outputs": [
    {
     "output_type": "stream",
     "name": "stdout",
     "text": [
      "(array([1, 2, 3], dtype=int32),)\n[3 8 3]\n"
     ]
    }
   ],
   "source": [
    "arr11 = np.array([0,3,8,3])\n",
    "\n",
    "index = np.where(arr11>2)\n",
    "print(index)\n",
    "\n",
    "new_arr = arr11[index]\n",
    "print(new_arr)"
   ]
  },
  {
   "cell_type": "code",
   "execution_count": 95,
   "metadata": {},
   "outputs": [
    {
     "output_type": "stream",
     "name": "stdout",
     "text": [
      "[0]\n"
     ]
    }
   ],
   "source": [
    "new_arr2 = np.delete(arr11, index)\n",
    "print(new_arr2)"
   ]
  }
 ]
}