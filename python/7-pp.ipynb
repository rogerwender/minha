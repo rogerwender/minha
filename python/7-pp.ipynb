{
 "metadata": {
  "language_info": {
   "codemirror_mode": {
    "name": "ipython",
    "version": 3
   },
   "file_extension": ".py",
   "mimetype": "text/x-python",
   "name": "python",
   "nbconvert_exporter": "python",
   "pygments_lexer": "ipython3",
   "version": "3.8.3-final"
  },
  "orig_nbformat": 2,
  "kernelspec": {
   "name": "python3",
   "display_name": "Python 3",
   "language": "python"
  }
 },
 "nbformat": 4,
 "nbformat_minor": 2,
 "cells": [
  {
   "cell_type": "code",
   "execution_count": 6,
   "metadata": {},
   "outputs": [
    {
     "output_type": "stream",
     "name": "stdout",
     "text": [
      "O log de x é  1.3862943611198906\n"
     ]
    }
   ],
   "source": [
    "import math\n",
    "\n",
    "def imprimeLogaritmo(x):\n",
    "  if x <= 0:\n",
    "    print (\"Somente números positivos, por favor.\")\n",
    "    return\n",
    "\n",
    "  resultado = math.log(x)\n",
    "  print (\"O log de x é \", resultado)\n",
    "\n",
    "imprimeLogaritmo(4)"
   ]
  },
  {
   "cell_type": "code",
   "execution_count": 9,
   "metadata": {},
   "outputs": [
    {
     "output_type": "stream",
     "name": "stdout",
     "text": [
      "3\n2\n1\nFogo!\n"
     ]
    }
   ],
   "source": [
    "#Recursividade\n",
    "def contagemRegressiva(n):\n",
    "  if n == 0:\n",
    "    print (\"Fogo!\")\n",
    "  else:\n",
    "    print (n)\n",
    "    contagemRegressiva(n-1)\n",
    "\n",
    "contagemRegressiva(3)"
   ]
  },
  {
   "cell_type": "code",
   "execution_count": 12,
   "metadata": {},
   "outputs": [
    {
     "output_type": "stream",
     "name": "stdout",
     "text": [
      "Bla\n"
     ]
    }
   ],
   "source": [
    "entrada = input()\n",
    "print (entrada)\n"
   ]
  },
  {
   "cell_type": "code",
   "execution_count": 15,
   "metadata": {},
   "outputs": [
    {
     "output_type": "execute_result",
     "data": {
      "text/plain": [
       "24"
      ]
     },
     "metadata": {},
     "execution_count": 15
    }
   ],
   "source": [
    "def fatorial(n):\n",
    "  if n == 0:\n",
    "    return 1\n",
    "  else:\n",
    "    return n * fatorial(n-1)\n",
    "\n",
    "fatorial(4)"
   ]
  },
  {
   "cell_type": "code",
   "execution_count": 24,
   "metadata": {},
   "outputs": [
    {
     "output_type": "stream",
     "name": "stdout",
     "text": [
      "1 \t \n2 \t \n3 \t \n4 \t \n5 \t \n6 \t \n2 \t \n4 \t \n6 \t \n8 \t \n10 \t \n12 \t \n3 \t \n6 \t \n9 \t \n12 \t \n15 \t \n18 \t \n"
     ]
    }
   ],
   "source": [
    "def imprimeMultiplos(n):\n",
    "    i = 1\n",
    "    while i <= 6:\n",
    "        print (n*i, '\\t ',)\n",
    "        i = i + 1\n",
    "\n",
    "\n",
    "def imprimeTabMult(altura):\n",
    "  i = 1\n",
    "  while i <= altura:\n",
    "    imprimeMultiplos(i)\n",
    "    i = i + 1\n",
    "\n",
    "imprimeTabMult(3)\n",
    "\n"
   ]
  },
  {
   "cell_type": "code",
   "execution_count": 27,
   "metadata": {},
   "outputs": [
    {
     "output_type": "stream",
     "name": "stdout",
     "text": [
      "b\na\nn\na\nn\na\nb\na\nn\na\nn\na\n"
     ]
    }
   ],
   "source": [
    "fruta = \"banana\"\n",
    "\n",
    "indice = 0\n",
    "while indice < len(fruta):\n",
    "    letra = fruta[indice]\n",
    "    print (letra)\n",
    "    indice = indice + 1\n",
    "\n",
    "for char in fruta:\n",
    "    print (char)"
   ]
  },
  {
   "cell_type": "code",
   "execution_count": 28,
   "metadata": {},
   "outputs": [
    {
     "output_type": "stream",
     "name": "stdout",
     "text": [
      "3\n"
     ]
    }
   ],
   "source": [
    "fruta = \"banana\"\n",
    "contador = 0\n",
    "for letra in fruta:\n",
    "  if letra == 'a':\n",
    "    contador = contador + 1\n",
    "print (contador)"
   ]
  },
  {
   "cell_type": "code",
   "execution_count": 30,
   "metadata": {},
   "outputs": [
    {
     "output_type": "stream",
     "name": "stdout",
     "text": [
      "Lista [1:3] ['b', 'c']\nLista [:4] ['a', 'b', 'c', 'd']\nLista [3:] ['d', 'e', 'f']\nLista [:] ['a', 'b', 'c', 'd', 'e', 'f']\n"
     ]
    }
   ],
   "source": [
    "lista = ['a', 'b', 'c', 'd', 'e', 'f']\n",
    "print(\"Lista [1:3]\", lista[1:3])\n",
    "\n",
    "print(\"Lista [:4]\", lista[:4])\n",
    "\n",
    "print(\"Lista [3:]\",lista[3:])\n",
    "\n",
    "print(\"Lista [:]\",lista[:])\n"
   ]
  },
  {
   "cell_type": "code",
   "execution_count": 31,
   "metadata": {},
   "outputs": [
    {
     "output_type": "execute_result",
     "data": {
      "text/plain": [
       "1"
      ]
     },
     "metadata": {},
     "execution_count": 31
    }
   ],
   "source": [
    "def cabeca(lista):\n",
    "        return lista[0]\n",
    "\n",
    "numeros = [1, 2, 3]\n",
    "cabeca(numeros)"
   ]
  },
  {
   "cell_type": "code",
   "execution_count": 32,
   "metadata": {},
   "outputs": [
    {
     "output_type": "stream",
     "name": "stdout",
     "text": [
      "0.1310825639451051\n0.6749743066974124\n0.7241353604434938\n0.4839948004796403\n0.49398458409233625\n0.10835122043516843\n0.23234761731062903\n0.4680804547693781\n0.2978970816827784\n0.7334639486153014\n"
     ]
    }
   ],
   "source": [
    "import random\n",
    "\n",
    "for i in range(10):\n",
    "  x = random.random()\n",
    "  print (x)"
   ]
  },
  {
   "cell_type": "code",
   "execution_count": 34,
   "metadata": {},
   "outputs": [
    {
     "output_type": "stream",
     "name": "stdout",
     "text": [
      "{'abacaxis': 430, 'bananas': 312, 'laranjas': 525, 'peras': 217}\n"
     ]
    }
   ],
   "source": [
    "inventario = {'abacaxis': 430, 'bananas': 312, 'laranjas': 525, 'peras': 217}\n",
    "print (inventario)"
   ]
  },
  {
   "cell_type": "code",
   "execution_count": 50,
   "metadata": {},
   "outputs": [
    {
     "output_type": "stream",
     "name": "stdout",
     "text": [
      "10 h: 60 m: 60 s\n"
     ]
    }
   ],
   "source": [
    "class Horario:\n",
    "    pass\n",
    "\n",
    "\n",
    "h1 = Horario()\n",
    "h1.horas = 5\n",
    "h1.minutos = 30\n",
    "h1.segundos = 30\n",
    "\n",
    "h2 = Horario()\n",
    "h2.horas = 5\n",
    "h2.minutos = 30\n",
    "h2.segundos = 30\n",
    "\n",
    "\n",
    "def somaHorario(h1, h2):\n",
    "  soma = Horario()\n",
    "  soma.horas = h1.horas + h2.horas\n",
    "  soma.minutos = h1.minutos + h2.minutos\n",
    "  soma.segundos = h1.segundos + h2.segundos\n",
    "  return soma\n",
    "\n",
    "m = somaHorario(h1,h2)\n",
    "print(m.horas, \"h:\", m.minutos, \"m:\", m.segundos, \"s\")"
   ]
  },
  {
   "cell_type": "code",
   "execution_count": 51,
   "metadata": {},
   "outputs": [
    {
     "output_type": "error",
     "ename": "SyntaxError",
     "evalue": "invalid syntax (<ipython-input-51-936e12aa4eaf>, line 3)",
     "traceback": [
      "\u001b[1;36m  File \u001b[1;32m\"<ipython-input-51-936e12aa4eaf>\"\u001b[1;36m, line \u001b[1;32m3\u001b[0m\n\u001b[1;33m    print str(time.horas) + ?:? + \\\u001b[0m\n\u001b[1;37m          ^\u001b[0m\n\u001b[1;31mSyntaxError\u001b[0m\u001b[1;31m:\u001b[0m invalid syntax\n"
     ]
    }
   ],
   "source": [
    "class Horario:\n",
    "  def exibeHora(time):\n",
    "    print str(time.horas) + ?:? + \\\n",
    "      str(time.minutos) + ?:? + \\\n",
    "      str(time.segundos)\n",
    "\n",
    "horaCorrente.exibeHora()"
   ]
  },
  {
   "cell_type": "code",
   "execution_count": 71,
   "metadata": {},
   "outputs": [
    {
     "output_type": "error",
     "ename": "AttributeError",
     "evalue": "'Carta' object has no attribute 'ListaDeNaipes'",
     "traceback": [
      "\u001b[1;31m---------------------------------------------------------------------------\u001b[0m",
      "\u001b[1;31mAttributeError\u001b[0m                            Traceback (most recent call last)",
      "\u001b[1;32m<ipython-input-71-f69ce4e39c6b>\u001b[0m in \u001b[0;36m<module>\u001b[1;34m\u001b[0m\n\u001b[0;32m     16\u001b[0m \u001b[1;33m\u001b[0m\u001b[0m\n\u001b[0;32m     17\u001b[0m \u001b[0mcarta1\u001b[0m \u001b[1;33m=\u001b[0m \u001b[0mCarta\u001b[0m\u001b[1;33m(\u001b[0m\u001b[1;36m1\u001b[0m\u001b[1;33m,\u001b[0m \u001b[1;36m11\u001b[0m\u001b[1;33m)\u001b[0m\u001b[1;33m\u001b[0m\u001b[1;33m\u001b[0m\u001b[0m\n\u001b[1;32m---> 18\u001b[1;33m \u001b[0mprint\u001b[0m \u001b[1;33m(\u001b[0m\u001b[0mcarta1\u001b[0m\u001b[1;33m)\u001b[0m\u001b[1;33m\u001b[0m\u001b[1;33m\u001b[0m\u001b[0m\n\u001b[0m",
      "\u001b[1;32m<ipython-input-71-f69ce4e39c6b>\u001b[0m in \u001b[0;36m__str__\u001b[1;34m(self)\u001b[0m\n\u001b[0;32m     10\u001b[0m \u001b[1;33m\u001b[0m\u001b[0m\n\u001b[0;32m     11\u001b[0m   \u001b[1;32mdef\u001b[0m \u001b[0m__str__\u001b[0m\u001b[1;33m(\u001b[0m\u001b[0mself\u001b[0m\u001b[1;33m)\u001b[0m\u001b[1;33m:\u001b[0m\u001b[1;33m\u001b[0m\u001b[1;33m\u001b[0m\u001b[0m\n\u001b[1;32m---> 12\u001b[1;33m     \u001b[1;32mreturn\u001b[0m \u001b[1;33m(\u001b[0m\u001b[0mself\u001b[0m\u001b[1;33m.\u001b[0m\u001b[0mlistaDePosicoes\u001b[0m\u001b[1;33m[\u001b[0m\u001b[0mself\u001b[0m\u001b[1;33m.\u001b[0m\u001b[0mposicao\u001b[0m\u001b[1;33m]\u001b[0m \u001b[1;33m+\u001b[0m \u001b[1;34m\" de \"\u001b[0m \u001b[1;33m+\u001b[0m \u001b[0mself\u001b[0m\u001b[1;33m.\u001b[0m\u001b[0mListaDeNaipes\u001b[0m\u001b[1;33m[\u001b[0m\u001b[0mself\u001b[0m\u001b[1;33m.\u001b[0m\u001b[0mnaipe\u001b[0m\u001b[1;33m]\u001b[0m\u001b[1;33m)\u001b[0m\u001b[1;33m\u001b[0m\u001b[1;33m\u001b[0m\u001b[0m\n\u001b[0m\u001b[0;32m     13\u001b[0m \u001b[1;33m\u001b[0m\u001b[0m\n\u001b[0;32m     14\u001b[0m \u001b[1;33m\u001b[0m\u001b[0m\n",
      "\u001b[1;31mAttributeError\u001b[0m: 'Carta' object has no attribute 'ListaDeNaipes'"
     ]
    }
   ],
   "source": [
    "class Carta:\n",
    "  listaDeNaipes = [\"Paus\", \"Ouros\", \"Copas\", \"Espadas\"]\n",
    "  listaDePosicoes = [\"narf\", \"Ás\", \"2\", \"3\", \"4\", \"5\", \"6\", \"7\",\n",
    "                     \"8\", \"9\", \"10\", \"Valete\", \"Rainha\", \"Rei\"]\n",
    "\n",
    "  # método init omitido\n",
    "  def __init__(self, naipe=0, posicao=0):\n",
    "    self.naipe = naipe\n",
    "    self.posicao = posicao\n",
    "\n",
    "  def __str__(self):\n",
    "    return (self.listaDePosicoes[self.posicao] + \" de \" + self.ListaDeNaipes[self.naipe])\n",
    "\n",
    "\n",
    "\n",
    "\n",
    "carta1 = Carta(1, 11)\n",
    "print (carta1)\n"
   ]
  },
  {
   "cell_type": "code",
   "execution_count": 70,
   "metadata": {},
   "outputs": [
    {
     "output_type": "stream",
     "name": "stdout",
     "text": [
      "<class '__main__.Baralho'>\n"
     ]
    }
   ],
   "source": [
    "class Baralho:\n",
    "  def __init__(self):\n",
    "    self.cartas = []\n",
    "    for naipe in range(4):\n",
    "      for posicao in range(1, 14):\n",
    "        self.cartas.append(Carta(naipe, posicao))\n",
    "\n",
    "  def imprimirBaralho(self):\n",
    "    for carta in self.cartas:\n",
    "      print (carta)\n",
    "\n",
    "  def __str__(self):\n",
    "    s = \"\"\n",
    "    for i in range(len(self.cartas)):\n",
    "      s = s + \" \"*i + str(self.cartas[i]) + \"\\n\"\n",
    "    return s\n",
    "\n",
    "baralho = Baralho()\n",
    "print (Baralho)"
   ]
  },
  {
   "cell_type": "code",
   "execution_count": 84,
   "metadata": {},
   "outputs": [
    {
     "output_type": "stream",
     "name": "stdout",
     "text": [
      "1\n2\n3\n"
     ]
    }
   ],
   "source": [
    "class Nome:\n",
    "  def __init__(self, carga=None, proximo=None):\n",
    "    self.carga = carga\n",
    "    self.proximo = proximo\n",
    "\n",
    "  def __str__(self):\n",
    "    return str(self.carga)\n",
    "\n",
    "no1 = No(1)\n",
    "no2 = No(2)\n",
    "no3 = No(3)\n",
    "\n",
    "no1.proximo = no2\n",
    "no2.proximo = no3\n",
    "\n",
    "def imprimeLista(no):\n",
    "  while no:\n",
    "    print (no),\n",
    "    no = no.proximo\n",
    "  print\n",
    "\n",
    "imprimeLista(no1)\n"
   ]
  },
  {
   "cell_type": "code",
   "execution_count": 86,
   "metadata": {},
   "outputs": [
    {
     "output_type": "error",
     "ename": "AttributeError",
     "evalue": "'list' object has no attribute 'apend'",
     "traceback": [
      "\u001b[1;31m---------------------------------------------------------------------------\u001b[0m",
      "\u001b[1;31mAttributeError\u001b[0m                            Traceback (most recent call last)",
      "\u001b[1;32m<ipython-input-86-6c2b9b9f8467>\u001b[0m in \u001b[0;36m<module>\u001b[1;34m\u001b[0m\n\u001b[0;32m     13\u001b[0m \u001b[1;33m\u001b[0m\u001b[0m\n\u001b[0;32m     14\u001b[0m \u001b[0ms\u001b[0m \u001b[1;33m=\u001b[0m \u001b[0mStack\u001b[0m\u001b[1;33m(\u001b[0m\u001b[1;33m)\u001b[0m\u001b[1;33m\u001b[0m\u001b[1;33m\u001b[0m\u001b[0m\n\u001b[1;32m---> 15\u001b[1;33m \u001b[0ms\u001b[0m\u001b[1;33m.\u001b[0m\u001b[0mpush\u001b[0m\u001b[1;33m(\u001b[0m\u001b[1;36m54\u001b[0m\u001b[1;33m)\u001b[0m\u001b[1;33m\u001b[0m\u001b[1;33m\u001b[0m\u001b[0m\n\u001b[0m\u001b[0;32m     16\u001b[0m \u001b[0ms\u001b[0m\u001b[1;33m.\u001b[0m\u001b[0mpush\u001b[0m\u001b[1;33m(\u001b[0m\u001b[1;36m45\u001b[0m\u001b[1;33m)\u001b[0m\u001b[1;33m\u001b[0m\u001b[1;33m\u001b[0m\u001b[0m\n\u001b[0;32m     17\u001b[0m \u001b[0ms\u001b[0m\u001b[1;33m.\u001b[0m\u001b[0mpush\u001b[0m\u001b[1;33m(\u001b[0m\u001b[1;34m\"+\"\u001b[0m\u001b[1;33m)\u001b[0m\u001b[1;33m\u001b[0m\u001b[1;33m\u001b[0m\u001b[0m\n",
      "\u001b[1;32m<ipython-input-86-6c2b9b9f8467>\u001b[0m in \u001b[0;36mpush\u001b[1;34m(self, item)\u001b[0m\n\u001b[0;32m      4\u001b[0m \u001b[1;33m\u001b[0m\u001b[0m\n\u001b[0;32m      5\u001b[0m   \u001b[1;32mdef\u001b[0m \u001b[0mpush\u001b[0m\u001b[1;33m(\u001b[0m\u001b[0mself\u001b[0m\u001b[1;33m,\u001b[0m \u001b[0mitem\u001b[0m\u001b[1;33m)\u001b[0m \u001b[1;33m:\u001b[0m\u001b[1;33m\u001b[0m\u001b[1;33m\u001b[0m\u001b[0m\n\u001b[1;32m----> 6\u001b[1;33m     \u001b[0mself\u001b[0m\u001b[1;33m.\u001b[0m\u001b[0mitems\u001b[0m\u001b[1;33m.\u001b[0m\u001b[0mapend\u001b[0m\u001b[1;33m(\u001b[0m\u001b[0mitem\u001b[0m\u001b[1;33m)\u001b[0m\u001b[1;33m\u001b[0m\u001b[1;33m\u001b[0m\u001b[0m\n\u001b[0m\u001b[0;32m      7\u001b[0m \u001b[1;33m\u001b[0m\u001b[0m\n\u001b[0;32m      8\u001b[0m   \u001b[1;32mdef\u001b[0m \u001b[0mpop\u001b[0m\u001b[1;33m(\u001b[0m\u001b[0mself\u001b[0m\u001b[1;33m)\u001b[0m \u001b[1;33m:\u001b[0m\u001b[1;33m\u001b[0m\u001b[1;33m\u001b[0m\u001b[0m\n",
      "\u001b[1;31mAttributeError\u001b[0m: 'list' object has no attribute 'apend'"
     ]
    }
   ],
   "source": [
    "class Stack :\n",
    "  def __init__(self) :\n",
    "    self.items = []\n",
    "\n",
    "  def push(self, item) :\n",
    "    self.items.apend(item)\n",
    "\n",
    "  def pop(self) :\n",
    "    return self.items.pop()\n",
    "\n",
    "  def isEmpty(self) :\n",
    "    return (self.items == [])\n",
    "\n",
    "s = Stack()\n",
    "s.push(54)\n",
    "s.push(45)\n",
    "s.push(\"+\")"
   ]
  },
  {
   "cell_type": "code",
   "execution_count": 90,
   "metadata": {},
   "outputs": [
    {
     "output_type": "error",
     "ename": "AttributeError",
     "evalue": "module 'string' has no attribute 'split'",
     "traceback": [
      "\u001b[1;31m---------------------------------------------------------------------------\u001b[0m",
      "\u001b[1;31mAttributeError\u001b[0m                            Traceback (most recent call last)",
      "\u001b[1;32m<ipython-input-90-65417b975164>\u001b[0m in \u001b[0;36m<module>\u001b[1;34m\u001b[0m\n\u001b[0;32m      1\u001b[0m \u001b[1;32mimport\u001b[0m \u001b[0mstring\u001b[0m\u001b[1;33m\u001b[0m\u001b[1;33m\u001b[0m\u001b[0m\n\u001b[1;32m----> 2\u001b[1;33m \u001b[0mstring\u001b[0m\u001b[1;33m.\u001b[0m\u001b[0msplit\u001b[0m\u001b[1;33m(\u001b[0m\u001b[1;33m)\u001b[0m\u001b[1;33m\u001b[0m\u001b[1;33m\u001b[0m\u001b[0m\n\u001b[0m\u001b[0;32m      3\u001b[0m \u001b[1;33m\u001b[0m\u001b[0m\n\u001b[0;32m      4\u001b[0m \u001b[1;32mimport\u001b[0m \u001b[0mre\u001b[0m\u001b[1;33m\u001b[0m\u001b[1;33m\u001b[0m\u001b[0m\n\u001b[0;32m      5\u001b[0m \u001b[0mre\u001b[0m\u001b[1;33m.\u001b[0m\u001b[0msplit\u001b[0m \u001b[1;33m(\u001b[0m\u001b[1;34m\"[^0-9]\"\u001b[0m\u001b[1;33m,\u001b[0m \u001b[1;34m\"123+456*/\"\u001b[0m\u001b[1;33m)\u001b[0m\u001b[1;33m\u001b[0m\u001b[1;33m\u001b[0m\u001b[0m\n",
      "\u001b[1;31mAttributeError\u001b[0m: module 'string' has no attribute 'split'"
     ]
    }
   ],
   "source": [
    "import string\n",
    "string.split() \n",
    "\n",
    "import re\n",
    "re.split (\"[^0-9]\", \"123+456*/\")\n"
   ]
  }
 ]
}